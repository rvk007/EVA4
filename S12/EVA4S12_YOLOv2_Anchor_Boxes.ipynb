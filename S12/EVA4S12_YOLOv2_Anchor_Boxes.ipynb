{
  "nbformat": 4,
  "nbformat_minor": 0,
  "metadata": {
    "kernelspec": {
      "name": "python3",
      "display_name": "Python 3"
    },
    "language_info": {
      "codemirror_mode": {
        "name": "ipython",
        "version": 3
      },
      "file_extension": ".py",
      "mimetype": "text/x-python",
      "name": "python",
      "nbconvert_exporter": "python",
      "pygments_lexer": "ipython3",
      "version": "3.6.6"
    },
    "colab": {
      "name": "EVA4S12 - YOLOv2 Anchor Boxes.ipynb",
      "provenance": [],
      "collapsed_sections": [],
      "toc_visible": true
    }
  },
  "cells": [
    {
      "cell_type": "markdown",
      "metadata": {
        "id": "aO-7t1Y7-hV4",
        "colab_type": "text"
      },
      "source": [
        "# Imports\n",
        "Importing necessary packages and modules"
      ]
    },
    {
      "cell_type": "code",
      "metadata": {
        "id": "-yVpodAMpoCi",
        "colab_type": "code",
        "colab": {}
      },
      "source": [
        "%matplotlib inline\n",
        "\n",
        "import numpy as np\n",
        "import matplotlib.pyplot as plt\n",
        "from matplotlib.collections import PatchCollection\n",
        "from matplotlib.patches import Rectangle"
      ],
      "execution_count": 0,
      "outputs": []
    },
    {
      "cell_type": "markdown",
      "metadata": {
        "id": "W5VeEGdPqjZ5",
        "colab_type": "text"
      },
      "source": [
        "# Data Preparation\n",
        "\n",
        "Parse the JSON file to obtain annotations.\n",
        "\n",
        "<br/>\n",
        "\n",
        "### JSON File Structure\n",
        "\n",
        "The annotation file will be of COCO format and have the following structure\n",
        "- **images**\n",
        "  - **id**: Image id\n",
        "  - **width**: Width of the image\n",
        "  - **height**: Height of the image\n",
        "  - **filename**: Image file name\n",
        "  - **license**: License id for the image\n",
        "  - **date_captured**: Date of capture of the image\n",
        "- **annotations**\n",
        "  - **id**: Annotation id\n",
        "  - **image_id**: Id of the image the annotation is associated with\n",
        "  - **category_id**: Id of the class the annotation belongs to\n",
        "  - **segmentation**: (x, y) coordinates of the four corners of the bounding box\n",
        "  - **area**: Area of the bounding box\n",
        "  - **bbox**: (x, y) coordinate of the top-left corner and width and height of the bounding box\n",
        "  - **iscrowd**: If the image has a crowd of objects denoted by this annotation"
      ]
    },
    {
      "cell_type": "code",
      "metadata": {
        "id": "YFH7EYOYiTPw",
        "colab_type": "code",
        "colab": {}
      },
      "source": [
        "def load_json(path):\n",
        "    \"\"\"Read the input JSON file.\n",
        "\n",
        "    Args:\n",
        "        path (str): Path to the JSON file.\n",
        "    \n",
        "    Returns:\n",
        "        Image annotations.\n",
        "    \"\"\"\n",
        "    with open(path) as f:\n",
        "        img_annotations = eval(f.read())\n",
        "    return img_annotations"
      ],
      "execution_count": 0,
      "outputs": []
    },
    {
      "cell_type": "code",
      "metadata": {
        "id": "JHrJgNyXqxgP",
        "colab_type": "code",
        "colab": {}
      },
      "source": [
        "def fetch_data_points(img_annotations):\n",
        "    \"\"\"Fetch data points from the image\n",
        "    annotations.\n",
        "\n",
        "    Args:\n",
        "        img_annotations (dict): Image annotations.\n",
        "    \n",
        "    Returns:\n",
        "        Array containing data points.\n",
        "    \"\"\"\n",
        "    data_points = []\n",
        "    for annotation in img_annotations['annotations']:\n",
        "        bbox = annotation['bbox']\n",
        "        img = img_annotations['images'][int(annotation['image_id'])]\n",
        "\n",
        "        # Normalize the height and width of the bounding box\n",
        "        data_points.append((\n",
        "            bbox[2] / img['width'],\n",
        "            bbox[3] / img['height']\n",
        "        ))\n",
        "    return np.array(data_points)"
      ],
      "execution_count": 0,
      "outputs": []
    },
    {
      "cell_type": "code",
      "metadata": {
        "id": "2pfOA6_e0KWz",
        "colab_type": "code",
        "colab": {}
      },
      "source": [
        "img_annotations = load_json('dogs.json')\n",
        "data_points = fetch_data_points(img_annotations)"
      ],
      "execution_count": 0,
      "outputs": []
    },
    {
      "cell_type": "markdown",
      "metadata": {
        "id": "sQfts7wxrX6x",
        "colab_type": "text"
      },
      "source": [
        "## Visualize Data"
      ]
    },
    {
      "cell_type": "markdown",
      "metadata": {
        "id": "89BayfGMXIuY",
        "colab_type": "text"
      },
      "source": [
        "Display a scatter plot of the height and width of the normalized bounding boxes"
      ]
    },
    {
      "cell_type": "code",
      "metadata": {
        "id": "ISCNvp4-0XrE",
        "colab_type": "code",
        "outputId": "ad94ac7d-5b6b-474e-e45c-5771742f03b1",
        "colab": {
          "base_uri": "https://localhost:8080/",
          "height": 298
        }
      },
      "source": [
        "plt.scatter(data_points[:, 0], data_points[:, 1])\n",
        "plt.xlabel('width')\n",
        "plt.ylabel('height')"
      ],
      "execution_count": 5,
      "outputs": [
        {
          "output_type": "execute_result",
          "data": {
            "text/plain": [
              "Text(0, 0.5, 'height')"
            ]
          },
          "metadata": {
            "tags": []
          },
          "execution_count": 5
        },
        {
          "output_type": "display_data",
          "data": {
            "image/png": "[encoded data removed]",
            "text/plain": [
              "<Figure size 432x288 with 1 Axes>"
            ]
          },
          "metadata": {
            "tags": [],
            "needs_background": "light"
          }
        }
      ]
    },
    {
      "cell_type": "markdown",
      "metadata": {
        "id": "Iny2CdF_XXJi",
        "colab_type": "text"
      },
      "source": [
        "Display a scatter plot of the log of height and width of the normalized bounding boxes"
      ]
    },
    {
      "cell_type": "code",
      "metadata": {
        "id": "pVuwf10JWowk",
        "colab_type": "code",
        "colab": {
          "base_uri": "https://localhost:8080/",
          "height": 296
        },
        "outputId": "37943e3c-0d65-4ea2-dd5f-fe0520b961d8"
      },
      "source": [
        "plt.scatter(np.log(data_points[:, 0]), np.log(data_points[:, 1]))\n",
        "plt.xlabel('log(width)')\n",
        "plt.ylabel('log(height)')"
      ],
      "execution_count": 6,
      "outputs": [
        {
          "output_type": "execute_result",
          "data": {
            "text/plain": [
              "Text(0, 0.5, 'log(height)')"
            ]
          },
          "metadata": {
            "tags": []
          },
          "execution_count": 6
        },
        {
          "output_type": "display_data",
          "data": {
            "image/png": "[encoded data removed]",
            "text/plain": [
              "<Figure size 432x288 with 1 Axes>"
            ]
          },
          "metadata": {
            "tags": [],
            "needs_background": "light"
          }
        }
      ]
    },
    {
      "cell_type": "markdown",
      "metadata": {
        "id": "TX3Ld3Lfrmv_",
        "colab_type": "text"
      },
      "source": [
        "# K-Means Clustering"
      ]
    },
    {
      "cell_type": "markdown",
      "metadata": {
        "id": "AIKzfJYFXqF1",
        "colab_type": "text"
      },
      "source": [
        "Define the K-Means algorithm"
      ]
    },
    {
      "cell_type": "code",
      "metadata": {
        "id": "9CzBxKst0cED",
        "colab_type": "code",
        "colab": {}
      },
      "source": [
        "class KMeans:\n",
        "    \"\"\"K-Means clustering algorithm.\"\"\"\n",
        "\n",
        "    def __init__(self, num_clusters, points, iterations):\n",
        "        \"\"\"Initialize parameters of the algorithm.\n",
        "\n",
        "        Args:\n",
        "            num_clusters (int): Number of clusters to\n",
        "                segment the data into.\n",
        "            points (numpy.ndarray): Points in the dataset.\n",
        "            iterations (int): Number of iterations for\n",
        "                running the algorithm.\n",
        "        \"\"\"\n",
        "        self.num_clusters = num_clusters\n",
        "        self.points = points\n",
        "        self.iterations = iterations\n",
        "\n",
        "        self.centroids = self.initialize_centroids()\n",
        "        self.closest = None\n",
        "        self.mean_iou = None\n",
        "\n",
        "        self.find_clusters()\n",
        "        self.iou()\n",
        "\n",
        "    def initialize_centroids(self):\n",
        "        \"\"\"Select random inital centroids from the points.\n",
        "        \n",
        "        Returns:\n",
        "            Array containing initial centroids.\n",
        "        \"\"\"\n",
        "        centroids = self.points.copy()\n",
        "        np.random.shuffle(centroids)\n",
        "        return centroids[:self.num_clusters]\n",
        "\n",
        "    def closest_centroid(self):\n",
        "        \"\"\"Find the closest centroid for each point in the dataset.\"\"\"\n",
        "        distances = np.sqrt(\n",
        "            ((self.points - self.centroids[:, np.newaxis]) ** 2).sum(axis=2)\n",
        "        )\n",
        "        self.closest = np.argmin(distances, axis=0)\n",
        "\n",
        "    def move_centroids(self):\n",
        "        \"\"\"Find new centroids based on the points in the cluser.\"\"\"\n",
        "        self.centroids =  np.array([\n",
        "            self.points[self.closest == k].mean(axis=0)\n",
        "            for k in range(self.centroids.shape[0])\n",
        "        ])\n",
        "    \n",
        "    def find_clusters(self):\n",
        "        \"\"\"Run the K-Means algorithm.\"\"\"\n",
        "        for _ in range(self.iterations):\n",
        "            self.closest_centroid()\n",
        "            self.move_centroids()\n",
        "    \n",
        "    def iou(self):\n",
        "        \"\"\"Calculate Intersection over Union (IoU) for each point\n",
        "        with its closest centroid.\"\"\"\n",
        "        closest_centroids = self.centroids[self.closest]\n",
        "        width = np.minimum(\n",
        "            closest_centroids[:, 0], self.points[:, 0]\n",
        "        )\n",
        "        height = np.minimum(\n",
        "            closest_centroids[:, 1], self.points[:, 1]\n",
        "        )\n",
        "\n",
        "        intersection = width * height\n",
        "        points_area = self.points[:, 0] * self.points[:, 1]\n",
        "        cluster_area = closest_centroids[:, 0] * closest_centroids[:, 1]\n",
        "\n",
        "        self.mean_iou = np.mean(\n",
        "            intersection / (points_area + cluster_area - intersection)\n",
        "        )"
      ],
      "execution_count": 0,
      "outputs": []
    },
    {
      "cell_type": "markdown",
      "metadata": {
        "id": "lvUxzJLKXvSi",
        "colab_type": "text"
      },
      "source": [
        "Run the algorithm for a number of clusters ranging from 1 to 18. Store the mean IoU for each cluster in a list."
      ]
    },
    {
      "cell_type": "code",
      "metadata": {
        "id": "tRd6P4Cz9NgF",
        "colab_type": "code",
        "colab": {}
      },
      "source": [
        "# List containing the mean IoU for each set of\n",
        "# number of clusters\n",
        "iou_list = []\n",
        "kmeans_model = {}\n",
        "\n",
        "# Range of number of clusters to try out\n",
        "num_clusters_start = 1\n",
        "num_clusters_end = 16\n",
        "\n",
        "# Number of iterations to run each pass\n",
        "iterations = 300\n",
        "\n",
        "# Run K-Means for each range of number of clusters\n",
        "for k in range(num_clusters_start, num_clusters_end + 1):\n",
        "    kmeans_model[k + 1] = KMeans(k + 1, data_points, iterations)\n",
        "    iou_list.append(kmeans_model[k + 1].mean_iou)"
      ],
      "execution_count": 0,
      "outputs": []
    },
    {
      "cell_type": "markdown",
      "metadata": {
        "id": "oN3CBY9gfp7D",
        "colab_type": "text"
      },
      "source": [
        "## Visualize Results"
      ]
    },
    {
      "cell_type": "markdown",
      "metadata": {
        "id": "RlhOAhUWfuE7",
        "colab_type": "text"
      },
      "source": [
        "Display the Number of clusters vs Mean IoU graph"
      ]
    },
    {
      "cell_type": "code",
      "metadata": {
        "id": "hDvgXwy4DSfs",
        "colab_type": "code",
        "outputId": "4a3048c9-834d-4a20-8120-2e7255d2ee06",
        "colab": {
          "base_uri": "https://localhost:8080/",
          "height": 350
        }
      },
      "source": [
        "fig = plt.figure(figsize=(9, 5))\n",
        "\n",
        "_ = plt.plot(iou_list, '-s', markeredgecolor='green', markeredgewidth=3)\n",
        "\n",
        "plt.xlabel('Number of Clusters (k)')\n",
        "plt.ylabel('Mean IoU')\n",
        "\n",
        "plt.xticks(np.arange(len(iou_list)), np.arange(1, len(iou_list)+1))\n",
        "plt.title('Number of Clusters vs Mean IoU')\n",
        "\n",
        "fig.savefig('kmeans_iou.png')"
      ],
      "execution_count": 32,
      "outputs": [
        {
          "output_type": "display_data",
          "data": {
            "image/png": "[encoded data removed]",
            "text/plain": [
              "<Figure size 648x360 with 1 Axes>"
            ]
          },
          "metadata": {
            "tags": [],
            "needs_background": "light"
          }
        }
      ]
    },
    {
      "cell_type": "markdown",
      "metadata": {
        "id": "HaknTPoPf08j",
        "colab_type": "text"
      },
      "source": [
        "For the above plot, k = 3 or k = 4 seems to be the best choice because for after 4, the curve becomes almost linear."
      ]
    },
    {
      "cell_type": "markdown",
      "metadata": {
        "id": "tjdA3Fi70fpZ",
        "colab_type": "text"
      },
      "source": [
        "## Plot clusters\n",
        "\n",
        "Let's display plots for points with k = 3 and k = 4"
      ]
    },
    {
      "cell_type": "code",
      "metadata": {
        "id": "YTK--Qs2f3tN",
        "colab_type": "code",
        "colab": {}
      },
      "source": [
        "def display_clusters(kmeans):\n",
        "    num_clusters = kmeans.num_clusters\n",
        "\n",
        "    # Plot points for each cluster\n",
        "    for cluster_id in range(num_clusters):\n",
        "        points = kmeans.points[kmeans.closest == cluster_id]\n",
        "        plt.scatter(points[:, 0], points[:, 1])\n",
        "    \n",
        "    # Plot centroids\n",
        "    plt.scatter(kmeans.centroids[:, 0], kmeans.centroids[:, 1], c='black', s=90, marker='x')\n",
        "    plt.xlabel('width')\n",
        "    plt.ylabel('height')\n",
        "    plt.title(f'Cluster Plot for k = {num_clusters}')\n",
        "\n",
        "    # Save figure\n",
        "    plt.savefig(f'cluster_plot_k{num_clusters}.png')"
      ],
      "execution_count": 0,
      "outputs": []
    },
    {
      "cell_type": "code",
      "metadata": {
        "id": "sLeNZIxDBTzg",
        "colab_type": "code",
        "colab": {
          "base_uri": "https://localhost:8080/",
          "height": 294
        },
        "outputId": "78a36d41-d8fd-420a-f10d-92769894c6dc"
      },
      "source": [
        "# Plot for k = 3\n",
        "display_clusters(kmeans_model[3])"
      ],
      "execution_count": 49,
      "outputs": [
        {
          "output_type": "display_data",
          "data": {
            "image/png": "[encoded data removed]",
            "text/plain": [
              "<Figure size 432x288 with 1 Axes>"
            ]
          },
          "metadata": {
            "tags": [],
            "needs_background": "light"
          }
        }
      ]
    },
    {
      "cell_type": "code",
      "metadata": {
        "id": "JHL0MKpTbmQx",
        "colab_type": "code",
        "colab": {
          "base_uri": "https://localhost:8080/",
          "height": 294
        },
        "outputId": "0515dcda-a609-4e25-e8e7-86d487a6cd22"
      },
      "source": [
        "# Plot for k = 4\n",
        "display_clusters(kmeans_model[4])"
      ],
      "execution_count": 50,
      "outputs": [
        {
          "output_type": "display_data",
          "data": {
            "image/png": "[encoded data removed]",
            "text/plain": [
              "<Figure size 432x288 with 1 Axes>"
            ]
          },
          "metadata": {
            "tags": [],
            "needs_background": "light"
          }
        }
      ]
    },
    {
      "cell_type": "markdown",
      "metadata": {
        "id": "8qWKYAAMsGmq",
        "colab_type": "text"
      },
      "source": [
        "# Plot Anchor Boxes\n",
        "Plot the anchor boxes obtained for k = 3 and k = 4"
      ]
    },
    {
      "cell_type": "code",
      "metadata": {
        "id": "6WIg_lhTp8bo",
        "colab_type": "code",
        "colab": {}
      },
      "source": [
        "def make_anchor_boxes(ax, clusters, edgecolor='b', alpha=1):\n",
        "    \"\"\"Make anchor boxes given cluster centroids.\"\"\"\n",
        "\n",
        "    xdata = np.array([0.5]*len(clusters))\n",
        "    ydata = np.array([0.5]*len(clusters))\n",
        "\n",
        "    xerror = np.array([list(np.exp(clusters[:, 0])/2)]*2)\n",
        "    yerror = np.array([list(np.exp(clusters[:, 1])/2)]*2)\n",
        "\n",
        "    # Create list for all the error patches\n",
        "    errorboxes = []\n",
        "\n",
        "    # Loop over data points; create box from errors at each point\n",
        "    for x, y, xe, ye in zip(xdata, ydata, xerror.T, yerror.T):\n",
        "        rect = Rectangle((x - xe[0], y - ye[0]), xe.sum(), ye.sum())\n",
        "        errorboxes.append(rect)\n",
        "\n",
        "    # Create patch collection with specified colour/alpha\n",
        "    pc = PatchCollection(\n",
        "        errorboxes, facecolor='None', alpha=alpha, edgecolor=edgecolor\n",
        "    )\n",
        "\n",
        "    # Add collection to axes\n",
        "    ax.add_collection(pc)\n",
        "\n",
        "    # Plot errorbars\n",
        "    artists = ax.errorbar(\n",
        "        xdata, ydata, xerr=xerror, yerr=yerror, fmt='None', ecolor='None'\n",
        "    )\n",
        "\n",
        "    return artists"
      ],
      "execution_count": 0,
      "outputs": []
    },
    {
      "cell_type": "code",
      "metadata": {
        "id": "7KVIuZUjwJim",
        "colab_type": "code",
        "colab": {
          "base_uri": "https://localhost:8080/",
          "height": 281
        },
        "outputId": "84ffc2a9-1738-47de-f93f-aef2b0b6e7cf"
      },
      "source": [
        "# Create figure and axes\n",
        "fig, ax = plt.subplots(1)\n",
        "\n",
        "# Create error boxes\n",
        "_ = make_anchor_boxes(ax, kmeans_model[3].centroids)\n",
        "\n",
        "# Show plot\n",
        "plt.title('Anchor boxes for k = 3')\n",
        "plt.show()\n",
        "fig.savefig('anchor_bbox_k3.png')"
      ],
      "execution_count": 41,
      "outputs": [
        {
          "output_type": "display_data",
          "data": {
            "image/png": "[encoded data removed]",
            "text/plain": [
              "<Figure size 432x288 with 1 Axes>"
            ]
          },
          "metadata": {
            "tags": [],
            "needs_background": "light"
          }
        }
      ]
    },
    {
      "cell_type": "code",
      "metadata": {
        "id": "j5R1OCpBwR3n",
        "colab_type": "code",
        "colab": {
          "base_uri": "https://localhost:8080/",
          "height": 281
        },
        "outputId": "55d7e4b6-e989-4d0b-c66b-fa1232443bc1"
      },
      "source": [
        "# Create figure and axes\n",
        "fig, ax = plt.subplots(1)\n",
        "\n",
        "# Create error boxes\n",
        "_ = make_anchor_boxes(ax, kmeans_model[4].centroids)\n",
        "\n",
        "# Show plot\n",
        "plt.title('Anchor boxes for k = 4')\n",
        "plt.show()\n",
        "fig.savefig('anchor_bbox_k4.png')"
      ],
      "execution_count": 42,
      "outputs": [
        {
          "output_type": "display_data",
          "data": {
            "image/png": "[encoded data removed]",
            "text/plain": [
              "<Figure size 432x288 with 1 Axes>"
            ]
          },
          "metadata": {
            "tags": [],
            "needs_background": "light"
          }
        }
      ]
    },
    {
      "cell_type": "code",
      "metadata": {
        "id": "_8nn-1VO1K6j",
        "colab_type": "code",
        "colab": {}
      },
      "source": [
        ""
      ],
      "execution_count": 0,
      "outputs": []
    }
  ]
}