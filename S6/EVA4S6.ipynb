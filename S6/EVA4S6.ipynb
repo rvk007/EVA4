{
  "nbformat": 4,
  "nbformat_minor": 0,
  "metadata": {
    "colab": {
      "name": "EVA4S6.ipynb",
      "provenance": [],
      "collapsed_sections": []
    },
    "kernelspec": {
      "name": "python3",
      "display_name": "Python 3"
    },
    "accelerator": "GPU"
  },
  "cells": [
    {
      "cell_type": "markdown",
      "metadata": {
        "id": "Rg1ZVZ8xHEXI",
        "colab_type": "text"
      },
      "source": [
        "# Installing Packages\n",
        "The following packages need to be installed before running the code below\n",
        "- torchsummary"
      ]
    },
    {
      "cell_type": "code",
      "metadata": {
        "id": "zMOoKk0OHEqe",
        "colab_type": "code",
        "colab": {
          "base_uri": "https://localhost:8080/",
          "height": 34
        },
        "outputId": "8c91b8b9-6f9a-4473-e34a-2ad1d76847d2"
      },
      "source": [
        "!pip install torchsummary"
      ],
      "execution_count": 3,
      "outputs": [
        {
          "output_type": "stream",
          "text": [
            "Requirement already satisfied: torchsummary in /usr/local/lib/python3.6/dist-packages (1.5.1)\n"
          ],
          "name": "stdout"
        }
      ]
    },
    {
      "cell_type": "markdown",
      "metadata": {
        "id": "aO-7t1Y7-hV4",
        "colab_type": "text"
      },
      "source": [
        "# Imports\n",
        "Importing necessary packages"
      ]
    },
    {
      "cell_type": "code",
      "metadata": {
        "id": "8kH16rnZ7wt_",
        "colab_type": "code",
        "colab": {}
      },
      "source": [
        "from __future__ import print_function\n",
        "\n",
        "import numpy as np\n",
        "import pandas as pd\n",
        "import matplotlib.pyplot as plt\n",
        "import torch\n",
        "import torch.nn as nn\n",
        "import torch.nn.functional as F\n",
        "import torch.optim as optim\n",
        "\n",
        "from tqdm import tqdm\n",
        "from torch.optim.lr_scheduler import StepLR\n",
        "from torchsummary import summary\n",
        "from torchvision import datasets, transforms\n",
        "from torchvision.utils import save_image"
      ],
      "execution_count": 0,
      "outputs": []
    },
    {
      "cell_type": "markdown",
      "metadata": {
        "id": "OfOSzHr1GW2c",
        "colab_type": "text"
      },
      "source": [
        "# Dataset Preparation and Loading\n",
        "The following steps are performed for preparing the dataset for the model.\n",
        "- Downloading the MNIST dataset\n",
        "- Visualizing the dataset and the data statistics\n",
        "- Defining data transformations\n",
        "- Splitting the dataset into train and validation set\n",
        "- Creating data loader for train and validation set"
      ]
    },
    {
      "cell_type": "markdown",
      "metadata": {
        "id": "ffnfhydPLQk5",
        "colab_type": "text"
      },
      "source": [
        "## Data Visualization and Statistics\n",
        "Let's see how our data looks like and what are the mean and standard deviation values of the dataset. This information will help us decide the transformations that can be used on the dataset."
      ]
    },
    {
      "cell_type": "code",
      "metadata": {
        "id": "gaxNDurqLY4X",
        "colab_type": "code",
        "colab": {
          "base_uri": "https://localhost:8080/",
          "height": 424
        },
        "outputId": "44a710da-34e7-4448-bf12-42cd717c58af"
      },
      "source": [
        "# Download data\n",
        "sample_data = datasets.MNIST('./data', train=True, download=True).data\n",
        "\n",
        "# Setti32ng the values in the data to be within the range [0, 1]\n",
        "sample_data = sample_data.numpy() / 255\n",
        "\n",
        "# Display some data statistics\n",
        "print('Data Statistics:')\n",
        "print(' - Data Shape:', sample_data.shape)\n",
        "print(' - min:', np.min(sample_data))\n",
        "print(' - max:', np.max(sample_data))\n",
        "print(' - mean: %.4f' % np.mean(sample_data))\n",
        "print(' - std: %.4f' % np.std(sample_data))\n",
        "print(' - var: %.4f\\n' % np.var(sample_data))\n",
        "\n",
        "# Visualize a sample from the data\n",
        "plt.imshow(sample_data[0], cmap='gray_r')"
      ],
      "execution_count": 5,
      "outputs": [
        {
          "output_type": "stream",
          "text": [
            "Data Statistics:\n",
            " - Data Shape: (60000, 28, 28)\n",
            " - min: 0.0\n",
            " - max: 1.0\n",
            " - mean: 0.1307\n",
            " - std: 0.3081\n",
            " - var: 0.0949\n",
            "\n"
          ],
          "name": "stdout"
        },
        {
          "output_type": "execute_result",
          "data": {
            "text/plain": [
              "<matplotlib.image.AxesImage at 0x7f9ea19414e0>"
            ]
          },
          "metadata": {
            "tags": []
          },
          "execution_count": 5
        },
        {
          "output_type": "display_data",
          "data": {
            "image/png": "[encoded data removed]",
            "text/plain": [
              "<Figure size 432x288 with 1 Axes>"
            ]
          },
          "metadata": {
            "tags": []
          }
        }
      ]
    },
    {
      "cell_type": "markdown",
      "metadata": {
        "id": "7tClldqIR0zA",
        "colab_type": "text"
      },
      "source": [
        "Let's view some more images. This will help in getting any ideas for data augmentation later on"
      ]
    },
    {
      "cell_type": "code",
      "metadata": {
        "id": "k7TxQifTMYLC",
        "colab_type": "code",
        "colab": {
          "base_uri": "https://localhost:8080/",
          "height": 245
        },
        "outputId": "5859b4c7-d82e-44a7-d3c3-731056e571fc"
      },
      "source": [
        "figure = plt.figure()\n",
        "num_of_images = 60\n",
        "for index in range(1, num_of_images + 1):\n",
        "    plt.subplot(6, 10, index)\n",
        "    plt.axis('off')\n",
        "    plt.imshow(sample_data[index], cmap='gray_r')"
      ],
      "execution_count": 6,
      "outputs": [
        {
          "output_type": "display_data",
          "data": {
            "image/png": "[encoded data removed]",
            "text/plain": [
              "<Figure size 432x288 with 60 Axes>"
            ]
          },
          "metadata": {
            "tags": []
          }
        }
      ]
    },
    {
      "cell_type": "markdown",
      "metadata": {
        "id": "grHT765783fO",
        "colab_type": "text"
      },
      "source": [
        "## Data Transformations\n",
        "\n",
        "The following transformations will be used\n",
        "- ToTensor\n",
        "- Normalize\n",
        "- RandomRotation"
      ]
    },
    {
      "cell_type": "code",
      "metadata": {
        "id": "BSpchiU79LnW",
        "colab_type": "code",
        "colab": {}
      },
      "source": [
        "# Train phase transformations\n",
        "train_transforms = transforms.Compose([\n",
        "    # Rotate image by 7 degrees\n",
        "    transforms.RandomRotation((-6.0, 6.0), fill=(1,)),\n",
        "\n",
        "    # convert the data to torch.FloatTensor with values within the range [0.0 ,1.0]\n",
        "    transforms.ToTensor(),\n",
        "\n",
        "    # normalize the data with mean and standard deviation\n",
        "    # these values were obtained from the data statistics above\n",
        "    transforms.Normalize((0.1307,), (0.3081,))\n",
        "])\n",
        "\n",
        "# Validation phase transformations\n",
        "val_transforms = transforms.Compose([\n",
        "    transforms.ToTensor(),\n",
        "    transforms.Normalize((0.1307,), (0.3081,))\n",
        "])"
      ],
      "execution_count": 0,
      "outputs": []
    },
    {
      "cell_type": "markdown",
      "metadata": {
        "id": "1g-Wd56S-3tg",
        "colab_type": "text"
      },
      "source": [
        "## Train Data and Validation Data Split\n",
        "The data is downloaded and split into two sets: train and validation"
      ]
    },
    {
      "cell_type": "code",
      "metadata": {
        "id": "NHJkLW3H_DZb",
        "colab_type": "code",
        "colab": {}
      },
      "source": [
        "train = datasets.MNIST('./data', train=True, download=True, transform=train_transforms)\n",
        "val = datasets.MNIST('./data', train=False, download=True, transform=val_transforms)"
      ],
      "execution_count": 0,
      "outputs": []
    },
    {
      "cell_type": "markdown",
      "metadata": {
        "id": "qFcWRAeY_MsB",
        "colab_type": "text"
      },
      "source": [
        "## Training and Validation Dataloaders\n",
        "This is the final step in data preparation. It sets the dataloader arguments and then creates the dataloader"
      ]
    },
    {
      "cell_type": "code",
      "metadata": {
        "id": "uT2fytsOGNV2",
        "colab_type": "code",
        "colab": {
          "base_uri": "https://localhost:8080/",
          "height": 34
        },
        "outputId": "79e9e07b-45b7-42ff-8ace-0432848176c1"
      },
      "source": [
        "SEED = 1\n",
        "\n",
        "cuda = torch.cuda.is_available()\n",
        "print('CUDA Available?', cuda)\n",
        "\n",
        "# For reproducibility of results\n",
        "torch.manual_seed(SEED)\n",
        "if cuda:\n",
        "    torch.cuda.manual_seed(SEED)\n",
        "\n",
        "# dataloader arguments\n",
        "dataloader_args = dict(shuffle=True, batch_size=64, num_workers=4, pin_memory=True) if cuda else dict(shuffle=True, batch_size=32)\n",
        "\n",
        "# train dataloader\n",
        "train_loader = torch.utils.data.DataLoader(train, **dataloader_args)\n",
        "\n",
        "# validation dataloader\n",
        "val_loader = torch.utils.data.DataLoader(val, **dataloader_args)"
      ],
      "execution_count": 9,
      "outputs": [
        {
          "output_type": "stream",
          "text": [
            "CUDA Available? True\n"
          ],
          "name": "stdout"
        }
      ]
    },
    {
      "cell_type": "markdown",
      "metadata": {
        "id": "HSeDIqBq-6pC",
        "colab_type": "text"
      },
      "source": [
        "# Model Architecture\n",
        "Designing the model structure"
      ]
    },
    {
      "cell_type": "code",
      "metadata": {
        "id": "f-fLk9QHJGFt",
        "colab_type": "code",
        "colab": {}
      },
      "source": [
        "class Net(nn.Module):\n",
        "    def __init__(self):\n",
        "        \"\"\" This function instantiates all the model layers \"\"\"\n",
        "        super(Net, self).__init__()\n",
        "\n",
        "        dropout_rate = 0.01\n",
        "\n",
        "        self.convblock1 = nn.Sequential(\n",
        "            nn.Conv2d(in_channels=1, out_channels=8, kernel_size=3),\n",
        "            nn.ReLU(),\n",
        "            nn.BatchNorm2d(8),\n",
        "            nn.Dropout(dropout_rate)\n",
        "        )  # Input: 28x28x1 | Output: 26x26x8 | RF: 3x3\n",
        "\n",
        "        self.convblock2 = nn.Sequential(\n",
        "            nn.Conv2d(in_channels=8, out_channels=8, kernel_size=3),\n",
        "            nn.ReLU(),\n",
        "            nn.BatchNorm2d(8),\n",
        "            nn.Dropout(dropout_rate)\n",
        "        )  # Input: 26x26x8 | Output: 24x24x8 | RF: 5x5\n",
        "\n",
        "        self.convblock3 = nn.Sequential(\n",
        "            nn.Conv2d(in_channels=8, out_channels=16, kernel_size=3),\n",
        "            nn.ReLU(),\n",
        "            nn.BatchNorm2d(16),\n",
        "            nn.Dropout(dropout_rate)\n",
        "        )  # Input: 24x24x8 | Output: 22x22x16 | RF: 7x7\n",
        "\n",
        "        self.convblock4 = nn.Sequential(\n",
        "            nn.Conv2d(in_channels=16, out_channels=16, kernel_size=3),\n",
        "            nn.ReLU(),\n",
        "            nn.BatchNorm2d(16),\n",
        "            nn.Dropout(dropout_rate)\n",
        "        )  # Input: 22x22x16 | Output: 20x20x16 | RF: 9x9\n",
        "\n",
        "        self.pool = nn.MaxPool2d(2, 2)  # Input: 20x20x16 | Output: 10x10x16 | RF: 10x10\n",
        "\n",
        "        self.convblock5 = nn.Sequential(\n",
        "            nn.Conv2d(in_channels=16, out_channels=16, kernel_size=3),\n",
        "            nn.ReLU(),\n",
        "            nn.BatchNorm2d(16),\n",
        "            nn.Dropout(dropout_rate)\n",
        "        )  # Input: 10x10x16 | Output: 8x8x16 | RF: 14x14\n",
        "\n",
        "        self.convblock6 = nn.Sequential(\n",
        "            nn.Conv2d(in_channels=16, out_channels=16, kernel_size=3),\n",
        "            nn.ReLU(),\n",
        "            nn.BatchNorm2d(16),\n",
        "            nn.Dropout(dropout_rate)\n",
        "        )  # Input: 8x8x16 | Output: 6x6x16 | RF: 18x18\n",
        "\n",
        "        self.convblock7 = nn.Sequential(\n",
        "            nn.Conv2d(in_channels=16, out_channels=10, kernel_size=1),\n",
        "            nn.ReLU(),\n",
        "            nn.BatchNorm2d(10),\n",
        "            nn.Dropout(dropout_rate)\n",
        "        )  # Input: 6x6x16 | Output: 6x6x10 | RF: 18x18\n",
        "\n",
        "        self.gap = nn.Sequential(\n",
        "            nn.AdaptiveAvgPool2d(1)\n",
        "        )  # Input: 6x6x10 | Output: 1x1x10 | RF: 28x28\n",
        "    \n",
        "    def forward(self, x):\n",
        "        \"\"\" This function defines the network structure \"\"\"\n",
        "        x = self.convblock1(x)\n",
        "        x = self.convblock2(x)\n",
        "        x = self.convblock3(x)\n",
        "        x = self.convblock4(x)\n",
        "        x = self.pool(x)\n",
        "        x = self.convblock5(x)\n",
        "        x = self.convblock6(x)\n",
        "        x = self.convblock7(x)\n",
        "        x = self.gap(x)\n",
        "        x = x.view(-1, 10)\n",
        "        return F.log_softmax(x, dim=-1)"
      ],
      "execution_count": 0,
      "outputs": []
    },
    {
      "cell_type": "markdown",
      "metadata": {
        "id": "-yrNmc72D5yE",
        "colab_type": "text"
      },
      "source": [
        "## Model Parameters\n",
        "Let's see the model summary"
      ]
    },
    {
      "cell_type": "code",
      "metadata": {
        "id": "FJGvqMnvFvLb",
        "colab_type": "code",
        "colab": {
          "base_uri": "https://localhost:8080/",
          "height": 798
        },
        "outputId": "bdaee112-7be3-4046-d042-6de5acb5efe6"
      },
      "source": [
        "use_cuda = torch.cuda.is_available()\n",
        "device = torch.device(\"cuda\" if use_cuda else \"cpu\")\n",
        "print(device)\n",
        "model = Net().to(device)\n",
        "summary(model, input_size=(1, 28, 28))"
      ],
      "execution_count": 11,
      "outputs": [
        {
          "output_type": "stream",
          "text": [
            "cuda\n",
            "----------------------------------------------------------------\n",
            "        Layer (type)               Output Shape         Param #\n",
            "================================================================\n",
            "            Conv2d-1            [-1, 8, 26, 26]              80\n",
            "              ReLU-2            [-1, 8, 26, 26]               0\n",
            "       BatchNorm2d-3            [-1, 8, 26, 26]              16\n",
            "           Dropout-4            [-1, 8, 26, 26]               0\n",
            "            Conv2d-5            [-1, 8, 24, 24]             584\n",
            "              ReLU-6            [-1, 8, 24, 24]               0\n",
            "       BatchNorm2d-7            [-1, 8, 24, 24]              16\n",
            "           Dropout-8            [-1, 8, 24, 24]               0\n",
            "            Conv2d-9           [-1, 16, 22, 22]           1,168\n",
            "             ReLU-10           [-1, 16, 22, 22]               0\n",
            "      BatchNorm2d-11           [-1, 16, 22, 22]              32\n",
            "          Dropout-12           [-1, 16, 22, 22]               0\n",
            "           Conv2d-13           [-1, 16, 20, 20]           2,320\n",
            "             ReLU-14           [-1, 16, 20, 20]               0\n",
            "      BatchNorm2d-15           [-1, 16, 20, 20]              32\n",
            "          Dropout-16           [-1, 16, 20, 20]               0\n",
            "        MaxPool2d-17           [-1, 16, 10, 10]               0\n",
            "           Conv2d-18             [-1, 16, 8, 8]           2,320\n",
            "             ReLU-19             [-1, 16, 8, 8]               0\n",
            "      BatchNorm2d-20             [-1, 16, 8, 8]              32\n",
            "          Dropout-21             [-1, 16, 8, 8]               0\n",
            "           Conv2d-22             [-1, 16, 6, 6]           2,320\n",
            "             ReLU-23             [-1, 16, 6, 6]               0\n",
            "      BatchNorm2d-24             [-1, 16, 6, 6]              32\n",
            "          Dropout-25             [-1, 16, 6, 6]               0\n",
            "           Conv2d-26             [-1, 10, 6, 6]             170\n",
            "             ReLU-27             [-1, 10, 6, 6]               0\n",
            "      BatchNorm2d-28             [-1, 10, 6, 6]              20\n",
            "          Dropout-29             [-1, 10, 6, 6]               0\n",
            "AdaptiveAvgPool2d-30             [-1, 10, 1, 1]               0\n",
            "================================================================\n",
            "Total params: 9,142\n",
            "Trainable params: 9,142\n",
            "Non-trainable params: 0\n",
            "----------------------------------------------------------------\n",
            "Input size (MB): 0.00\n",
            "Forward/backward pass size (MB): 0.81\n",
            "Params size (MB): 0.03\n",
            "Estimated Total Size (MB): 0.85\n",
            "----------------------------------------------------------------\n"
          ],
          "name": "stdout"
        }
      ]
    },
    {
      "cell_type": "markdown",
      "metadata": {
        "id": "HcyKrcQEGcdp",
        "colab_type": "text"
      },
      "source": [
        "# Model Training and Validation"
      ]
    },
    {
      "cell_type": "markdown",
      "metadata": {
        "id": "D2VZKTTi_FJx",
        "colab_type": "text"
      },
      "source": [
        "Function for model training"
      ]
    },
    {
      "cell_type": "code",
      "metadata": {
        "id": "1N1CK2-eF1Y7",
        "colab_type": "code",
        "colab": {}
      },
      "source": [
        "def train(model, device, train_loader, optimizer, epoch, l1_factor):\n",
        "    model.train()\n",
        "    pbar = tqdm(train_loader)\n",
        "    correct = 0\n",
        "    processed = 0\n",
        "    for batch_idx, (data, target) in enumerate(pbar):\n",
        "        # Get samples\n",
        "        data, target = data.to(device), target.to(device)\n",
        "\n",
        "        # Set gradients to zero before starting backpropagation\n",
        "        optimizer.zero_grad()\n",
        "\n",
        "        # Predict output\n",
        "        y_pred = model(data)\n",
        "\n",
        "        # Calculate loss\n",
        "        loss = F.nll_loss(y_pred, target)\n",
        "        if l1_factor > 0:  # Apply L1 regularization\n",
        "            l1_criteria = nn.L1Loss(size_average=False)\n",
        "            regularizer_loss = 0\n",
        "            for parameter in model.parameters():\n",
        "                regularizer_loss += l1_criteria(parameter, torch.zeros_like(parameter))\n",
        "            loss += l1_factor * regularizer_loss\n",
        "\n",
        "        # Perform backpropagation\n",
        "        loss.backward()\n",
        "        optimizer.step()\n",
        "\n",
        "        # Update Progress Bar\n",
        "        pred = y_pred.argmax(dim=1, keepdim=True)\n",
        "        correct += pred.eq(target.view_as(pred)).sum().item()\n",
        "        processed += len(data)\n",
        "        pbar.set_description(desc=f'Loss={loss.item():0.2f} Batch_ID={batch_idx} Accuracy={(100 * correct / processed):.2f}')"
      ],
      "execution_count": 0,
      "outputs": []
    },
    {
      "cell_type": "markdown",
      "metadata": {
        "id": "EC1kZAnj_NbJ",
        "colab_type": "text"
      },
      "source": [
        "Function for model validation"
      ]
    },
    {
      "cell_type": "code",
      "metadata": {
        "id": "lKquSvZP_TQp",
        "colab_type": "code",
        "colab": {}
      },
      "source": [
        "def val(model, device, val_loader, losses, accuracies, incorrect_samples):\n",
        "    model.eval()\n",
        "    val_loss = 0\n",
        "    correct = 0\n",
        "    with torch.no_grad():\n",
        "        for data, target in val_loader:\n",
        "            img_batch = data  # This is done to keep data in CPU\n",
        "            data, target = data.to(device), target.to(device)  # Get samples\n",
        "            output = model(data)  # Get trained model output\n",
        "            val_loss += F.nll_loss(output, target, reduction='sum').item()  # Sum up batch loss\n",
        "            pred = output.argmax(dim=1, keepdim=True)  # Get the index of the max log-probability\n",
        "            result = pred.eq(target.view_as(pred))\n",
        "\n",
        "            # Save incorrect samples\n",
        "            if len(incorrect_samples) < 25:\n",
        "                for i in range(val_loader.batch_size):\n",
        "                    if not list(result)[i]:\n",
        "                        incorrect_samples.append({\n",
        "                            'prediction': list(pred)[i],\n",
        "                            'label': list(target.view_as(pred))[i],\n",
        "                            'image': list(img_batch)[i]\n",
        "                        })\n",
        "\n",
        "            correct += result.sum().item()\n",
        "\n",
        "    val_loss /= len(val_loader.dataset)\n",
        "    losses.append(val_loss)\n",
        "    accuracies.append(100. * correct / len(val_loader.dataset))\n",
        "\n",
        "    print(f'\\nValidation set: Average loss: {val_loss:.4f}, Accuracy: {correct}/{len(val_loader.dataset)} ({accuracies[-1]:.2f}%)\\n')"
      ],
      "execution_count": 0,
      "outputs": []
    },
    {
      "cell_type": "markdown",
      "metadata": {
        "id": "bpxs5bnkARdS",
        "colab_type": "text"
      },
      "source": [
        "Function for model execution"
      ]
    },
    {
      "cell_type": "code",
      "metadata": {
        "id": "vddk65TZGeZx",
        "colab_type": "code",
        "colab": {}
      },
      "source": [
        "def run_model(l1=0.0, l2=0.0):\n",
        "    losses = []\n",
        "    accuracies = []\n",
        "    incorrect_samples = []\n",
        "    \n",
        "    model = Net().to(device)\n",
        "    optimizer = optim.SGD(model.parameters(), lr=0.01, momentum=0.9, weight_decay=l2)\n",
        "    scheduler = StepLR(optimizer, step_size=5, gamma=0.15)\n",
        "    epochs = 40\n",
        "\n",
        "    for epoch in range(1, epochs + 1):\n",
        "        print(f'Epoch {epoch}:')\n",
        "        train(model, device, train_loader, optimizer, epoch, l1)\n",
        "        scheduler.step()\n",
        "        val(model, device, val_loader, losses, accuracies, incorrect_samples)\n",
        "    \n",
        "    return losses, accuracies, incorrect_samples"
      ],
      "execution_count": 0,
      "outputs": []
    },
    {
      "cell_type": "markdown",
      "metadata": {
        "id": "UBkas4N_AsM3",
        "colab_type": "text"
      },
      "source": [
        "### Without L1 and L2 Regularization"
      ]
    },
    {
      "cell_type": "code",
      "metadata": {
        "id": "XUGDkH4CA88P",
        "colab_type": "code",
        "colab": {
          "base_uri": "https://localhost:8080/",
          "height": 1000
        },
        "outputId": "5fa51f48-477d-444f-e3c6-3939288b955e"
      },
      "source": [
        "loss, accuracy, incorrect_pred = run_model()"
      ],
      "execution_count": 16,
      "outputs": [
        {
          "output_type": "stream",
          "text": [
            "\r  0%|          | 0/938 [00:00<?, ?it/s]"
          ],
          "name": "stderr"
        },
        {
          "output_type": "stream",
          "text": [
            "Epoch 1:\n"
          ],
          "name": "stdout"
        },
        {
          "output_type": "stream",
          "text": [
            "Loss=0.23 Batch_ID=937 Accuracy=93.59: 100%|██████████| 938/938 [00:18<00:00, 51.61it/s]\n",
            "  0%|          | 0/938 [00:00<?, ?it/s]"
          ],
          "name": "stderr"
        },
        {
          "output_type": "stream",
          "text": [
            "\n",
            "Validation set: Average loss: 0.0700, Accuracy: 9850/10000 (98.50%)\n",
            "\n",
            "Epoch 2:\n"
          ],
          "name": "stdout"
        },
        {
          "output_type": "stream",
          "text": [
            "Loss=0.10 Batch_ID=937 Accuracy=97.76: 100%|██████████| 938/938 [00:18<00:00, 51.51it/s]\n",
            "  0%|          | 0/938 [00:00<?, ?it/s]"
          ],
          "name": "stderr"
        },
        {
          "output_type": "stream",
          "text": [
            "\n",
            "Validation set: Average loss: 0.0699, Accuracy: 9819/10000 (98.19%)\n",
            "\n",
            "Epoch 3:\n"
          ],
          "name": "stdout"
        },
        {
          "output_type": "stream",
          "text": [
            "Loss=0.02 Batch_ID=937 Accuracy=98.14: 100%|██████████| 938/938 [00:18<00:00, 51.11it/s]\n",
            "  0%|          | 0/938 [00:00<?, ?it/s]"
          ],
          "name": "stderr"
        },
        {
          "output_type": "stream",
          "text": [
            "\n",
            "Validation set: Average loss: 0.0499, Accuracy: 9868/10000 (98.68%)\n",
            "\n",
            "Epoch 4:\n"
          ],
          "name": "stdout"
        },
        {
          "output_type": "stream",
          "text": [
            "Loss=0.04 Batch_ID=937 Accuracy=98.37: 100%|██████████| 938/938 [00:18<00:00, 51.24it/s]\n",
            "  0%|          | 0/938 [00:00<?, ?it/s]"
          ],
          "name": "stderr"
        },
        {
          "output_type": "stream",
          "text": [
            "\n",
            "Validation set: Average loss: 0.0378, Accuracy: 9899/10000 (98.99%)\n",
            "\n",
            "Epoch 5:\n"
          ],
          "name": "stdout"
        },
        {
          "output_type": "stream",
          "text": [
            "Loss=0.04 Batch_ID=937 Accuracy=98.56: 100%|██████████| 938/938 [00:18<00:00, 51.96it/s]\n",
            "  0%|          | 0/938 [00:00<?, ?it/s]"
          ],
          "name": "stderr"
        },
        {
          "output_type": "stream",
          "text": [
            "\n",
            "Validation set: Average loss: 0.0304, Accuracy: 9926/10000 (99.26%)\n",
            "\n",
            "Epoch 6:\n"
          ],
          "name": "stdout"
        },
        {
          "output_type": "stream",
          "text": [
            "Loss=0.01 Batch_ID=937 Accuracy=98.91: 100%|██████████| 938/938 [00:18<00:00, 50.41it/s]\n",
            "  0%|          | 0/938 [00:00<?, ?it/s]"
          ],
          "name": "stderr"
        },
        {
          "output_type": "stream",
          "text": [
            "\n",
            "Validation set: Average loss: 0.0265, Accuracy: 9930/10000 (99.30%)\n",
            "\n",
            "Epoch 7:\n"
          ],
          "name": "stdout"
        },
        {
          "output_type": "stream",
          "text": [
            "Loss=0.02 Batch_ID=937 Accuracy=98.98: 100%|██████████| 938/938 [00:18<00:00, 50.25it/s]\n",
            "  0%|          | 0/938 [00:00<?, ?it/s]"
          ],
          "name": "stderr"
        },
        {
          "output_type": "stream",
          "text": [
            "\n",
            "Validation set: Average loss: 0.0247, Accuracy: 9943/10000 (99.43%)\n",
            "\n",
            "Epoch 8:\n"
          ],
          "name": "stdout"
        },
        {
          "output_type": "stream",
          "text": [
            "Loss=0.20 Batch_ID=937 Accuracy=99.05: 100%|██████████| 938/938 [00:17<00:00, 53.22it/s]\n",
            "  0%|          | 0/938 [00:00<?, ?it/s]"
          ],
          "name": "stderr"
        },
        {
          "output_type": "stream",
          "text": [
            "\n",
            "Validation set: Average loss: 0.0240, Accuracy: 9939/10000 (99.39%)\n",
            "\n",
            "Epoch 9:\n"
          ],
          "name": "stdout"
        },
        {
          "output_type": "stream",
          "text": [
            "Loss=0.03 Batch_ID=937 Accuracy=99.02: 100%|██████████| 938/938 [00:17<00:00, 53.21it/s]\n",
            "  0%|          | 0/938 [00:00<?, ?it/s]"
          ],
          "name": "stderr"
        },
        {
          "output_type": "stream",
          "text": [
            "\n",
            "Validation set: Average loss: 0.0238, Accuracy: 9939/10000 (99.39%)\n",
            "\n",
            "Epoch 10:\n"
          ],
          "name": "stdout"
        },
        {
          "output_type": "stream",
          "text": [
            "Loss=0.03 Batch_ID=937 Accuracy=99.10: 100%|██████████| 938/938 [00:17<00:00, 64.40it/s]\n",
            "  0%|          | 0/938 [00:00<?, ?it/s]"
          ],
          "name": "stderr"
        },
        {
          "output_type": "stream",
          "text": [
            "\n",
            "Validation set: Average loss: 0.0233, Accuracy: 9945/10000 (99.45%)\n",
            "\n",
            "Epoch 11:\n"
          ],
          "name": "stdout"
        },
        {
          "output_type": "stream",
          "text": [
            "Loss=0.01 Batch_ID=937 Accuracy=99.12: 100%|██████████| 938/938 [00:17<00:00, 53.04it/s]\n",
            "  0%|          | 0/938 [00:00<?, ?it/s]"
          ],
          "name": "stderr"
        },
        {
          "output_type": "stream",
          "text": [
            "\n",
            "Validation set: Average loss: 0.0229, Accuracy: 9940/10000 (99.40%)\n",
            "\n",
            "Epoch 12:\n"
          ],
          "name": "stdout"
        },
        {
          "output_type": "stream",
          "text": [
            "Loss=0.02 Batch_ID=937 Accuracy=99.12: 100%|██████████| 938/938 [00:17<00:00, 53.63it/s]\n",
            "  0%|          | 0/938 [00:00<?, ?it/s]"
          ],
          "name": "stderr"
        },
        {
          "output_type": "stream",
          "text": [
            "\n",
            "Validation set: Average loss: 0.0245, Accuracy: 9939/10000 (99.39%)\n",
            "\n",
            "Epoch 13:\n"
          ],
          "name": "stdout"
        },
        {
          "output_type": "stream",
          "text": [
            "Loss=0.01 Batch_ID=937 Accuracy=99.10: 100%|██████████| 938/938 [00:17<00:00, 53.16it/s]\n",
            "  0%|          | 0/938 [00:00<?, ?it/s]"
          ],
          "name": "stderr"
        },
        {
          "output_type": "stream",
          "text": [
            "\n",
            "Validation set: Average loss: 0.0226, Accuracy: 9943/10000 (99.43%)\n",
            "\n",
            "Epoch 14:\n"
          ],
          "name": "stdout"
        },
        {
          "output_type": "stream",
          "text": [
            "Loss=0.02 Batch_ID=937 Accuracy=99.14: 100%|██████████| 938/938 [00:17<00:00, 53.42it/s]\n",
            "  0%|          | 0/938 [00:00<?, ?it/s]"
          ],
          "name": "stderr"
        },
        {
          "output_type": "stream",
          "text": [
            "\n",
            "Validation set: Average loss: 0.0229, Accuracy: 9942/10000 (99.42%)\n",
            "\n",
            "Epoch 15:\n"
          ],
          "name": "stdout"
        },
        {
          "output_type": "stream",
          "text": [
            "Loss=0.01 Batch_ID=937 Accuracy=99.12: 100%|██████████| 938/938 [00:17<00:00, 53.63it/s]\n",
            "  0%|          | 0/938 [00:00<?, ?it/s]"
          ],
          "name": "stderr"
        },
        {
          "output_type": "stream",
          "text": [
            "\n",
            "Validation set: Average loss: 0.0232, Accuracy: 9938/10000 (99.38%)\n",
            "\n",
            "Epoch 16:\n"
          ],
          "name": "stdout"
        },
        {
          "output_type": "stream",
          "text": [
            "Loss=0.02 Batch_ID=937 Accuracy=99.14: 100%|██████████| 938/938 [00:18<00:00, 51.37it/s]\n",
            "  0%|          | 0/938 [00:00<?, ?it/s]"
          ],
          "name": "stderr"
        },
        {
          "output_type": "stream",
          "text": [
            "\n",
            "Validation set: Average loss: 0.0226, Accuracy: 9941/10000 (99.41%)\n",
            "\n",
            "Epoch 17:\n"
          ],
          "name": "stdout"
        },
        {
          "output_type": "stream",
          "text": [
            "Loss=0.02 Batch_ID=937 Accuracy=99.10: 100%|██████████| 938/938 [00:17<00:00, 53.58it/s]\n",
            "  0%|          | 0/938 [00:00<?, ?it/s]"
          ],
          "name": "stderr"
        },
        {
          "output_type": "stream",
          "text": [
            "\n",
            "Validation set: Average loss: 0.0222, Accuracy: 9940/10000 (99.40%)\n",
            "\n",
            "Epoch 18:\n"
          ],
          "name": "stdout"
        },
        {
          "output_type": "stream",
          "text": [
            "Loss=0.00 Batch_ID=937 Accuracy=99.15: 100%|██████████| 938/938 [00:17<00:00, 54.59it/s]\n",
            "  0%|          | 0/938 [00:00<?, ?it/s]"
          ],
          "name": "stderr"
        },
        {
          "output_type": "stream",
          "text": [
            "\n",
            "Validation set: Average loss: 0.0234, Accuracy: 9942/10000 (99.42%)\n",
            "\n",
            "Epoch 19:\n"
          ],
          "name": "stdout"
        },
        {
          "output_type": "stream",
          "text": [
            "Loss=0.09 Batch_ID=937 Accuracy=99.12: 100%|██████████| 938/938 [00:17<00:00, 53.32it/s]\n",
            "  0%|          | 0/938 [00:00<?, ?it/s]"
          ],
          "name": "stderr"
        },
        {
          "output_type": "stream",
          "text": [
            "\n",
            "Validation set: Average loss: 0.0228, Accuracy: 9943/10000 (99.43%)\n",
            "\n",
            "Epoch 20:\n"
          ],
          "name": "stdout"
        },
        {
          "output_type": "stream",
          "text": [
            "Loss=0.06 Batch_ID=937 Accuracy=99.10: 100%|██████████| 938/938 [00:17<00:00, 53.06it/s]\n",
            "  0%|          | 0/938 [00:00<?, ?it/s]"
          ],
          "name": "stderr"
        },
        {
          "output_type": "stream",
          "text": [
            "\n",
            "Validation set: Average loss: 0.0222, Accuracy: 9946/10000 (99.46%)\n",
            "\n",
            "Epoch 21:\n"
          ],
          "name": "stdout"
        },
        {
          "output_type": "stream",
          "text": [
            "Loss=0.01 Batch_ID=937 Accuracy=99.13: 100%|██████████| 938/938 [00:17<00:00, 54.16it/s]\n",
            "  0%|          | 0/938 [00:00<?, ?it/s]"
          ],
          "name": "stderr"
        },
        {
          "output_type": "stream",
          "text": [
            "\n",
            "Validation set: Average loss: 0.0228, Accuracy: 9940/10000 (99.40%)\n",
            "\n",
            "Epoch 22:\n"
          ],
          "name": "stdout"
        },
        {
          "output_type": "stream",
          "text": [
            "Loss=0.03 Batch_ID=937 Accuracy=99.17: 100%|██████████| 938/938 [00:17<00:00, 53.46it/s]\n",
            "  0%|          | 0/938 [00:00<?, ?it/s]"
          ],
          "name": "stderr"
        },
        {
          "output_type": "stream",
          "text": [
            "\n",
            "Validation set: Average loss: 0.0225, Accuracy: 9940/10000 (99.40%)\n",
            "\n",
            "Epoch 23:\n"
          ],
          "name": "stdout"
        },
        {
          "output_type": "stream",
          "text": [
            "Loss=0.04 Batch_ID=937 Accuracy=99.15: 100%|██████████| 938/938 [00:18<00:00, 51.10it/s]\n",
            "  0%|          | 0/938 [00:00<?, ?it/s]"
          ],
          "name": "stderr"
        },
        {
          "output_type": "stream",
          "text": [
            "\n",
            "Validation set: Average loss: 0.0225, Accuracy: 9941/10000 (99.41%)\n",
            "\n",
            "Epoch 24:\n"
          ],
          "name": "stdout"
        },
        {
          "output_type": "stream",
          "text": [
            "Loss=0.06 Batch_ID=937 Accuracy=99.13: 100%|██████████| 938/938 [00:17<00:00, 52.53it/s]\n",
            "  0%|          | 0/938 [00:00<?, ?it/s]"
          ],
          "name": "stderr"
        },
        {
          "output_type": "stream",
          "text": [
            "\n",
            "Validation set: Average loss: 0.0235, Accuracy: 9938/10000 (99.38%)\n",
            "\n",
            "Epoch 25:\n"
          ],
          "name": "stdout"
        },
        {
          "output_type": "stream",
          "text": [
            "Loss=0.01 Batch_ID=937 Accuracy=99.14: 100%|██████████| 938/938 [00:18<00:00, 51.53it/s]\n",
            "  0%|          | 0/938 [00:00<?, ?it/s]"
          ],
          "name": "stderr"
        },
        {
          "output_type": "stream",
          "text": [
            "\n",
            "Validation set: Average loss: 0.0225, Accuracy: 9941/10000 (99.41%)\n",
            "\n",
            "Epoch 26:\n"
          ],
          "name": "stdout"
        },
        {
          "output_type": "stream",
          "text": [
            "Loss=0.04 Batch_ID=937 Accuracy=99.12: 100%|██████████| 938/938 [00:18<00:00, 50.74it/s]\n",
            "  0%|          | 0/938 [00:00<?, ?it/s]"
          ],
          "name": "stderr"
        },
        {
          "output_type": "stream",
          "text": [
            "\n",
            "Validation set: Average loss: 0.0231, Accuracy: 9944/10000 (99.44%)\n",
            "\n",
            "Epoch 27:\n"
          ],
          "name": "stdout"
        },
        {
          "output_type": "stream",
          "text": [
            "Loss=0.06 Batch_ID=937 Accuracy=99.16: 100%|██████████| 938/938 [00:18<00:00, 51.57it/s]\n",
            "  0%|          | 0/938 [00:00<?, ?it/s]"
          ],
          "name": "stderr"
        },
        {
          "output_type": "stream",
          "text": [
            "\n",
            "Validation set: Average loss: 0.0233, Accuracy: 9938/10000 (99.38%)\n",
            "\n",
            "Epoch 28:\n"
          ],
          "name": "stdout"
        },
        {
          "output_type": "stream",
          "text": [
            "Loss=0.01 Batch_ID=937 Accuracy=99.14: 100%|██████████| 938/938 [00:18<00:00, 50.76it/s]\n",
            "  0%|          | 0/938 [00:00<?, ?it/s]"
          ],
          "name": "stderr"
        },
        {
          "output_type": "stream",
          "text": [
            "\n",
            "Validation set: Average loss: 0.0224, Accuracy: 9941/10000 (99.41%)\n",
            "\n",
            "Epoch 29:\n"
          ],
          "name": "stdout"
        },
        {
          "output_type": "stream",
          "text": [
            "Loss=0.09 Batch_ID=937 Accuracy=99.18: 100%|██████████| 938/938 [00:18<00:00, 50.39it/s]\n",
            "  0%|          | 0/938 [00:00<?, ?it/s]"
          ],
          "name": "stderr"
        },
        {
          "output_type": "stream",
          "text": [
            "\n",
            "Validation set: Average loss: 0.0224, Accuracy: 9940/10000 (99.40%)\n",
            "\n",
            "Epoch 30:\n"
          ],
          "name": "stdout"
        },
        {
          "output_type": "stream",
          "text": [
            "Loss=0.01 Batch_ID=937 Accuracy=99.13: 100%|██████████| 938/938 [00:18<00:00, 51.87it/s]\n",
            "  0%|          | 0/938 [00:00<?, ?it/s]"
          ],
          "name": "stderr"
        },
        {
          "output_type": "stream",
          "text": [
            "\n",
            "Validation set: Average loss: 0.0221, Accuracy: 9940/10000 (99.40%)\n",
            "\n",
            "Epoch 31:\n"
          ],
          "name": "stdout"
        },
        {
          "output_type": "stream",
          "text": [
            "Loss=0.01 Batch_ID=937 Accuracy=99.15: 100%|██████████| 938/938 [00:18<00:00, 50.41it/s]\n",
            "  0%|          | 0/938 [00:00<?, ?it/s]"
          ],
          "name": "stderr"
        },
        {
          "output_type": "stream",
          "text": [
            "\n",
            "Validation set: Average loss: 0.0219, Accuracy: 9944/10000 (99.44%)\n",
            "\n",
            "Epoch 32:\n"
          ],
          "name": "stdout"
        },
        {
          "output_type": "stream",
          "text": [
            "Loss=0.14 Batch_ID=937 Accuracy=99.11: 100%|██████████| 938/938 [00:19<00:00, 48.92it/s]\n",
            "  0%|          | 0/938 [00:00<?, ?it/s]"
          ],
          "name": "stderr"
        },
        {
          "output_type": "stream",
          "text": [
            "\n",
            "Validation set: Average loss: 0.0216, Accuracy: 9939/10000 (99.39%)\n",
            "\n",
            "Epoch 33:\n"
          ],
          "name": "stdout"
        },
        {
          "output_type": "stream",
          "text": [
            "Loss=0.13 Batch_ID=937 Accuracy=99.15: 100%|██████████| 938/938 [00:18<00:00, 51.09it/s]\n",
            "  0%|          | 0/938 [00:00<?, ?it/s]"
          ],
          "name": "stderr"
        },
        {
          "output_type": "stream",
          "text": [
            "\n",
            "Validation set: Average loss: 0.0222, Accuracy: 9941/10000 (99.41%)\n",
            "\n",
            "Epoch 34:\n"
          ],
          "name": "stdout"
        },
        {
          "output_type": "stream",
          "text": [
            "Loss=0.08 Batch_ID=937 Accuracy=99.14: 100%|██████████| 938/938 [00:18<00:00, 51.11it/s]\n",
            "  0%|          | 0/938 [00:00<?, ?it/s]"
          ],
          "name": "stderr"
        },
        {
          "output_type": "stream",
          "text": [
            "\n",
            "Validation set: Average loss: 0.0220, Accuracy: 9941/10000 (99.41%)\n",
            "\n",
            "Epoch 35:\n"
          ],
          "name": "stdout"
        },
        {
          "output_type": "stream",
          "text": [
            "Loss=0.01 Batch_ID=937 Accuracy=99.14: 100%|██████████| 938/938 [00:18<00:00, 50.08it/s]\n",
            "  0%|          | 0/938 [00:00<?, ?it/s]"
          ],
          "name": "stderr"
        },
        {
          "output_type": "stream",
          "text": [
            "\n",
            "Validation set: Average loss: 0.0244, Accuracy: 9942/10000 (99.42%)\n",
            "\n",
            "Epoch 36:\n"
          ],
          "name": "stdout"
        },
        {
          "output_type": "stream",
          "text": [
            "Loss=0.01 Batch_ID=937 Accuracy=99.14: 100%|██████████| 938/938 [00:18<00:00, 50.35it/s]\n",
            "  0%|          | 0/938 [00:00<?, ?it/s]"
          ],
          "name": "stderr"
        },
        {
          "output_type": "stream",
          "text": [
            "\n",
            "Validation set: Average loss: 0.0229, Accuracy: 9941/10000 (99.41%)\n",
            "\n",
            "Epoch 37:\n"
          ],
          "name": "stdout"
        },
        {
          "output_type": "stream",
          "text": [
            "Loss=0.02 Batch_ID=937 Accuracy=99.11: 100%|██████████| 938/938 [00:20<00:00, 46.02it/s]\n",
            "  0%|          | 0/938 [00:00<?, ?it/s]"
          ],
          "name": "stderr"
        },
        {
          "output_type": "stream",
          "text": [
            "\n",
            "Validation set: Average loss: 0.0229, Accuracy: 9941/10000 (99.41%)\n",
            "\n",
            "Epoch 38:\n"
          ],
          "name": "stdout"
        },
        {
          "output_type": "stream",
          "text": [
            "Loss=0.02 Batch_ID=937 Accuracy=99.13: 100%|██████████| 938/938 [00:20<00:00, 45.05it/s]\n",
            "  0%|          | 0/938 [00:00<?, ?it/s]"
          ],
          "name": "stderr"
        },
        {
          "output_type": "stream",
          "text": [
            "\n",
            "Validation set: Average loss: 0.0227, Accuracy: 9941/10000 (99.41%)\n",
            "\n",
            "Epoch 39:\n"
          ],
          "name": "stdout"
        },
        {
          "output_type": "stream",
          "text": [
            "Loss=0.03 Batch_ID=937 Accuracy=99.16: 100%|██████████| 938/938 [00:20<00:00, 45.23it/s]\n",
            "  0%|          | 0/938 [00:00<?, ?it/s]"
          ],
          "name": "stderr"
        },
        {
          "output_type": "stream",
          "text": [
            "\n",
            "Validation set: Average loss: 0.0228, Accuracy: 9943/10000 (99.43%)\n",
            "\n",
            "Epoch 40:\n"
          ],
          "name": "stdout"
        },
        {
          "output_type": "stream",
          "text": [
            "Loss=0.02 Batch_ID=937 Accuracy=99.12: 100%|██████████| 938/938 [00:21<00:00, 44.44it/s]\n"
          ],
          "name": "stderr"
        },
        {
          "output_type": "stream",
          "text": [
            "\n",
            "Validation set: Average loss: 0.0222, Accuracy: 9942/10000 (99.42%)\n",
            "\n"
          ],
          "name": "stdout"
        }
      ]
    },
    {
      "cell_type": "markdown",
      "metadata": {
        "id": "DdhqfytZAyTu",
        "colab_type": "text"
      },
      "source": [
        "### With L1 Regularization"
      ]
    },
    {
      "cell_type": "code",
      "metadata": {
        "id": "zr8qI6b5A8a6",
        "colab_type": "code",
        "colab": {
          "base_uri": "https://localhost:8080/",
          "height": 1000
        },
        "outputId": "50ad7683-e743-457e-fad7-caf257896bbf"
      },
      "source": [
        "l1_loss, l1_accuracy, incorrect_pred_l1 = run_model(l1=0.001)"
      ],
      "execution_count": 17,
      "outputs": [
        {
          "output_type": "stream",
          "text": [
            "\r  0%|          | 0/938 [00:00<?, ?it/s]"
          ],
          "name": "stderr"
        },
        {
          "output_type": "stream",
          "text": [
            "Epoch 1:\n"
          ],
          "name": "stdout"
        },
        {
          "output_type": "stream",
          "text": [
            "/usr/local/lib/python3.6/dist-packages/torch/nn/_reduction.py:43: UserWarning: size_average and reduce args will be deprecated, please use reduction='sum' instead.\n",
            "  warnings.warn(warning.format(ret))\n",
            "Loss=0.39 Batch_ID=937 Accuracy=93.44: 100%|██████████| 938/938 [00:25<00:00, 44.90it/s]\n",
            "  0%|          | 0/938 [00:00<?, ?it/s]"
          ],
          "name": "stderr"
        },
        {
          "output_type": "stream",
          "text": [
            "\n",
            "Validation set: Average loss: 0.0926, Accuracy: 9815/10000 (98.15%)\n",
            "\n",
            "Epoch 2:\n"
          ],
          "name": "stdout"
        },
        {
          "output_type": "stream",
          "text": [
            "Loss=0.39 Batch_ID=937 Accuracy=96.99: 100%|██████████| 938/938 [00:25<00:00, 36.39it/s]\n",
            "  0%|          | 0/938 [00:00<?, ?it/s]"
          ],
          "name": "stderr"
        },
        {
          "output_type": "stream",
          "text": [
            "\n",
            "Validation set: Average loss: 0.0958, Accuracy: 9747/10000 (97.47%)\n",
            "\n",
            "Epoch 3:\n"
          ],
          "name": "stdout"
        },
        {
          "output_type": "stream",
          "text": [
            "Loss=0.38 Batch_ID=937 Accuracy=97.23: 100%|██████████| 938/938 [00:23<00:00, 39.26it/s]\n",
            "  0%|          | 0/938 [00:00<?, ?it/s]"
          ],
          "name": "stderr"
        },
        {
          "output_type": "stream",
          "text": [
            "\n",
            "Validation set: Average loss: 0.0827, Accuracy: 9768/10000 (97.68%)\n",
            "\n",
            "Epoch 4:\n"
          ],
          "name": "stdout"
        },
        {
          "output_type": "stream",
          "text": [
            "Loss=0.28 Batch_ID=937 Accuracy=97.24: 100%|██████████| 938/938 [00:25<00:00, 37.41it/s]\n",
            "  0%|          | 0/938 [00:00<?, ?it/s]"
          ],
          "name": "stderr"
        },
        {
          "output_type": "stream",
          "text": [
            "\n",
            "Validation set: Average loss: 0.0657, Accuracy: 9839/10000 (98.39%)\n",
            "\n",
            "Epoch 5:\n"
          ],
          "name": "stdout"
        },
        {
          "output_type": "stream",
          "text": [
            "Loss=0.30 Batch_ID=937 Accuracy=97.41: 100%|██████████| 938/938 [00:23<00:00, 39.41it/s]\n",
            "  0%|          | 0/938 [00:00<?, ?it/s]"
          ],
          "name": "stderr"
        },
        {
          "output_type": "stream",
          "text": [
            "\n",
            "Validation set: Average loss: 0.0819, Accuracy: 9772/10000 (97.72%)\n",
            "\n",
            "Epoch 6:\n"
          ],
          "name": "stdout"
        },
        {
          "output_type": "stream",
          "text": [
            "Loss=0.20 Batch_ID=937 Accuracy=98.51: 100%|██████████| 938/938 [00:23<00:00, 39.67it/s]\n",
            "  0%|          | 0/938 [00:00<?, ?it/s]"
          ],
          "name": "stderr"
        },
        {
          "output_type": "stream",
          "text": [
            "\n",
            "Validation set: Average loss: 0.0333, Accuracy: 9920/10000 (99.20%)\n",
            "\n",
            "Epoch 7:\n"
          ],
          "name": "stdout"
        },
        {
          "output_type": "stream",
          "text": [
            "Loss=0.27 Batch_ID=937 Accuracy=98.59: 100%|██████████| 938/938 [00:23<00:00, 39.71it/s]\n",
            "  0%|          | 0/938 [00:00<?, ?it/s]"
          ],
          "name": "stderr"
        },
        {
          "output_type": "stream",
          "text": [
            "\n",
            "Validation set: Average loss: 0.0350, Accuracy: 9908/10000 (99.08%)\n",
            "\n",
            "Epoch 8:\n"
          ],
          "name": "stdout"
        },
        {
          "output_type": "stream",
          "text": [
            "Loss=0.36 Batch_ID=937 Accuracy=98.45: 100%|██████████| 938/938 [00:23<00:00, 40.30it/s]\n",
            "  0%|          | 0/938 [00:00<?, ?it/s]"
          ],
          "name": "stderr"
        },
        {
          "output_type": "stream",
          "text": [
            "\n",
            "Validation set: Average loss: 0.0373, Accuracy: 9913/10000 (99.13%)\n",
            "\n",
            "Epoch 9:\n"
          ],
          "name": "stdout"
        },
        {
          "output_type": "stream",
          "text": [
            "Loss=0.19 Batch_ID=937 Accuracy=98.40: 100%|██████████| 938/938 [00:23<00:00, 39.93it/s]\n",
            "  0%|          | 0/938 [00:00<?, ?it/s]"
          ],
          "name": "stderr"
        },
        {
          "output_type": "stream",
          "text": [
            "\n",
            "Validation set: Average loss: 0.0398, Accuracy: 9890/10000 (98.90%)\n",
            "\n",
            "Epoch 10:\n"
          ],
          "name": "stdout"
        },
        {
          "output_type": "stream",
          "text": [
            "Loss=0.25 Batch_ID=937 Accuracy=98.37: 100%|██████████| 938/938 [00:23<00:00, 40.00it/s]\n",
            "  0%|          | 0/938 [00:00<?, ?it/s]"
          ],
          "name": "stderr"
        },
        {
          "output_type": "stream",
          "text": [
            "\n",
            "Validation set: Average loss: 0.0399, Accuracy: 9894/10000 (98.94%)\n",
            "\n",
            "Epoch 11:\n"
          ],
          "name": "stdout"
        },
        {
          "output_type": "stream",
          "text": [
            "Loss=0.20 Batch_ID=937 Accuracy=98.87: 100%|██████████| 938/938 [00:23<00:00, 39.66it/s]\n",
            "  0%|          | 0/938 [00:00<?, ?it/s]"
          ],
          "name": "stderr"
        },
        {
          "output_type": "stream",
          "text": [
            "\n",
            "Validation set: Average loss: 0.0253, Accuracy: 9929/10000 (99.29%)\n",
            "\n",
            "Epoch 12:\n"
          ],
          "name": "stdout"
        },
        {
          "output_type": "stream",
          "text": [
            "Loss=0.18 Batch_ID=937 Accuracy=98.95: 100%|██████████| 938/938 [00:23<00:00, 39.32it/s]\n",
            "  0%|          | 0/938 [00:00<?, ?it/s]"
          ],
          "name": "stderr"
        },
        {
          "output_type": "stream",
          "text": [
            "\n",
            "Validation set: Average loss: 0.0243, Accuracy: 9934/10000 (99.34%)\n",
            "\n",
            "Epoch 13:\n"
          ],
          "name": "stdout"
        },
        {
          "output_type": "stream",
          "text": [
            "Loss=0.27 Batch_ID=937 Accuracy=98.91: 100%|██████████| 938/938 [00:23<00:00, 40.00it/s]\n",
            "  0%|          | 0/938 [00:00<?, ?it/s]"
          ],
          "name": "stderr"
        },
        {
          "output_type": "stream",
          "text": [
            "\n",
            "Validation set: Average loss: 0.0251, Accuracy: 9932/10000 (99.32%)\n",
            "\n",
            "Epoch 14:\n"
          ],
          "name": "stdout"
        },
        {
          "output_type": "stream",
          "text": [
            "Loss=0.15 Batch_ID=937 Accuracy=99.00: 100%|██████████| 938/938 [00:23<00:00, 39.60it/s]\n",
            "  0%|          | 0/938 [00:00<?, ?it/s]"
          ],
          "name": "stderr"
        },
        {
          "output_type": "stream",
          "text": [
            "\n",
            "Validation set: Average loss: 0.0267, Accuracy: 9927/10000 (99.27%)\n",
            "\n",
            "Epoch 15:\n"
          ],
          "name": "stdout"
        },
        {
          "output_type": "stream",
          "text": [
            "Loss=0.15 Batch_ID=937 Accuracy=98.90: 100%|██████████| 938/938 [00:23<00:00, 40.25it/s]\n",
            "  0%|          | 0/938 [00:00<?, ?it/s]"
          ],
          "name": "stderr"
        },
        {
          "output_type": "stream",
          "text": [
            "\n",
            "Validation set: Average loss: 0.0301, Accuracy: 9919/10000 (99.19%)\n",
            "\n",
            "Epoch 16:\n"
          ],
          "name": "stdout"
        },
        {
          "output_type": "stream",
          "text": [
            "Loss=0.14 Batch_ID=937 Accuracy=99.00: 100%|██████████| 938/938 [00:23<00:00, 39.66it/s]\n",
            "  0%|          | 0/938 [00:00<?, ?it/s]"
          ],
          "name": "stderr"
        },
        {
          "output_type": "stream",
          "text": [
            "\n",
            "Validation set: Average loss: 0.0241, Accuracy: 9938/10000 (99.38%)\n",
            "\n",
            "Epoch 17:\n"
          ],
          "name": "stdout"
        },
        {
          "output_type": "stream",
          "text": [
            "Loss=0.23 Batch_ID=937 Accuracy=99.08: 100%|██████████| 938/938 [00:24<00:00, 38.79it/s]\n",
            "  0%|          | 0/938 [00:00<?, ?it/s]"
          ],
          "name": "stderr"
        },
        {
          "output_type": "stream",
          "text": [
            "\n",
            "Validation set: Average loss: 0.0239, Accuracy: 9930/10000 (99.30%)\n",
            "\n",
            "Epoch 18:\n"
          ],
          "name": "stdout"
        },
        {
          "output_type": "stream",
          "text": [
            "Loss=0.17 Batch_ID=937 Accuracy=99.03: 100%|██████████| 938/938 [00:23<00:00, 39.25it/s]\n",
            "  0%|          | 0/938 [00:00<?, ?it/s]"
          ],
          "name": "stderr"
        },
        {
          "output_type": "stream",
          "text": [
            "\n",
            "Validation set: Average loss: 0.0242, Accuracy: 9936/10000 (99.36%)\n",
            "\n",
            "Epoch 19:\n"
          ],
          "name": "stdout"
        },
        {
          "output_type": "stream",
          "text": [
            "Loss=0.21 Batch_ID=937 Accuracy=99.02: 100%|██████████| 938/938 [00:23<00:00, 39.34it/s]\n",
            "  0%|          | 0/938 [00:00<?, ?it/s]"
          ],
          "name": "stderr"
        },
        {
          "output_type": "stream",
          "text": [
            "\n",
            "Validation set: Average loss: 0.0240, Accuracy: 9935/10000 (99.35%)\n",
            "\n",
            "Epoch 20:\n"
          ],
          "name": "stdout"
        },
        {
          "output_type": "stream",
          "text": [
            "Loss=0.15 Batch_ID=937 Accuracy=99.08: 100%|██████████| 938/938 [00:23<00:00, 39.95it/s]\n",
            "  0%|          | 0/938 [00:00<?, ?it/s]"
          ],
          "name": "stderr"
        },
        {
          "output_type": "stream",
          "text": [
            "\n",
            "Validation set: Average loss: 0.0247, Accuracy: 9935/10000 (99.35%)\n",
            "\n",
            "Epoch 21:\n"
          ],
          "name": "stdout"
        },
        {
          "output_type": "stream",
          "text": [
            "Loss=0.18 Batch_ID=937 Accuracy=99.06: 100%|██████████| 938/938 [00:24<00:00, 38.99it/s]\n",
            "  0%|          | 0/938 [00:00<?, ?it/s]"
          ],
          "name": "stderr"
        },
        {
          "output_type": "stream",
          "text": [
            "\n",
            "Validation set: Average loss: 0.0236, Accuracy: 9944/10000 (99.44%)\n",
            "\n",
            "Epoch 22:\n"
          ],
          "name": "stdout"
        },
        {
          "output_type": "stream",
          "text": [
            "Loss=0.20 Batch_ID=937 Accuracy=99.09: 100%|██████████| 938/938 [00:23<00:00, 40.22it/s]\n",
            "  0%|          | 0/938 [00:00<?, ?it/s]"
          ],
          "name": "stderr"
        },
        {
          "output_type": "stream",
          "text": [
            "\n",
            "Validation set: Average loss: 0.0232, Accuracy: 9939/10000 (99.39%)\n",
            "\n",
            "Epoch 23:\n"
          ],
          "name": "stdout"
        },
        {
          "output_type": "stream",
          "text": [
            "Loss=0.28 Batch_ID=937 Accuracy=99.08: 100%|██████████| 938/938 [00:23<00:00, 39.67it/s]\n",
            "  0%|          | 0/938 [00:00<?, ?it/s]"
          ],
          "name": "stderr"
        },
        {
          "output_type": "stream",
          "text": [
            "\n",
            "Validation set: Average loss: 0.0236, Accuracy: 9940/10000 (99.40%)\n",
            "\n",
            "Epoch 24:\n"
          ],
          "name": "stdout"
        },
        {
          "output_type": "stream",
          "text": [
            "Loss=0.19 Batch_ID=937 Accuracy=99.05: 100%|██████████| 938/938 [00:23<00:00, 40.71it/s]\n",
            "  0%|          | 0/938 [00:00<?, ?it/s]"
          ],
          "name": "stderr"
        },
        {
          "output_type": "stream",
          "text": [
            "\n",
            "Validation set: Average loss: 0.0239, Accuracy: 9933/10000 (99.33%)\n",
            "\n",
            "Epoch 25:\n"
          ],
          "name": "stdout"
        },
        {
          "output_type": "stream",
          "text": [
            "Loss=0.27 Batch_ID=937 Accuracy=99.04: 100%|██████████| 938/938 [00:22<00:00, 40.98it/s]\n",
            "  0%|          | 0/938 [00:00<?, ?it/s]"
          ],
          "name": "stderr"
        },
        {
          "output_type": "stream",
          "text": [
            "\n",
            "Validation set: Average loss: 0.0235, Accuracy: 9937/10000 (99.37%)\n",
            "\n",
            "Epoch 26:\n"
          ],
          "name": "stdout"
        },
        {
          "output_type": "stream",
          "text": [
            "Loss=0.24 Batch_ID=937 Accuracy=99.06: 100%|██████████| 938/938 [00:22<00:00, 41.69it/s]\n",
            "  0%|          | 0/938 [00:00<?, ?it/s]"
          ],
          "name": "stderr"
        },
        {
          "output_type": "stream",
          "text": [
            "\n",
            "Validation set: Average loss: 0.0239, Accuracy: 9936/10000 (99.36%)\n",
            "\n",
            "Epoch 27:\n"
          ],
          "name": "stdout"
        },
        {
          "output_type": "stream",
          "text": [
            "Loss=0.17 Batch_ID=937 Accuracy=99.12: 100%|██████████| 938/938 [00:22<00:00, 42.57it/s]\n",
            "  0%|          | 0/938 [00:00<?, ?it/s]"
          ],
          "name": "stderr"
        },
        {
          "output_type": "stream",
          "text": [
            "\n",
            "Validation set: Average loss: 0.0245, Accuracy: 9935/10000 (99.35%)\n",
            "\n",
            "Epoch 28:\n"
          ],
          "name": "stdout"
        },
        {
          "output_type": "stream",
          "text": [
            "Loss=0.14 Batch_ID=937 Accuracy=99.09: 100%|██████████| 938/938 [00:22<00:00, 42.55it/s]\n",
            "  0%|          | 0/938 [00:00<?, ?it/s]"
          ],
          "name": "stderr"
        },
        {
          "output_type": "stream",
          "text": [
            "\n",
            "Validation set: Average loss: 0.0239, Accuracy: 9934/10000 (99.34%)\n",
            "\n",
            "Epoch 29:\n"
          ],
          "name": "stdout"
        },
        {
          "output_type": "stream",
          "text": [
            "Loss=0.16 Batch_ID=937 Accuracy=99.08: 100%|██████████| 938/938 [00:21<00:00, 42.98it/s]\n",
            "  0%|          | 0/938 [00:00<?, ?it/s]"
          ],
          "name": "stderr"
        },
        {
          "output_type": "stream",
          "text": [
            "\n",
            "Validation set: Average loss: 0.0239, Accuracy: 9937/10000 (99.37%)\n",
            "\n",
            "Epoch 30:\n"
          ],
          "name": "stdout"
        },
        {
          "output_type": "stream",
          "text": [
            "Loss=0.15 Batch_ID=937 Accuracy=99.09: 100%|██████████| 938/938 [00:21<00:00, 42.65it/s]\n",
            "  0%|          | 0/938 [00:00<?, ?it/s]"
          ],
          "name": "stderr"
        },
        {
          "output_type": "stream",
          "text": [
            "\n",
            "Validation set: Average loss: 0.0237, Accuracy: 9933/10000 (99.33%)\n",
            "\n",
            "Epoch 31:\n"
          ],
          "name": "stdout"
        },
        {
          "output_type": "stream",
          "text": [
            "Loss=0.15 Batch_ID=937 Accuracy=99.11: 100%|██████████| 938/938 [00:21<00:00, 43.17it/s]\n",
            "  0%|          | 0/938 [00:00<?, ?it/s]"
          ],
          "name": "stderr"
        },
        {
          "output_type": "stream",
          "text": [
            "\n",
            "Validation set: Average loss: 0.0243, Accuracy: 9937/10000 (99.37%)\n",
            "\n",
            "Epoch 32:\n"
          ],
          "name": "stdout"
        },
        {
          "output_type": "stream",
          "text": [
            "Loss=0.16 Batch_ID=937 Accuracy=99.12: 100%|██████████| 938/938 [00:20<00:00, 52.47it/s]\n",
            "  0%|          | 0/938 [00:00<?, ?it/s]"
          ],
          "name": "stderr"
        },
        {
          "output_type": "stream",
          "text": [
            "\n",
            "Validation set: Average loss: 0.0238, Accuracy: 9930/10000 (99.30%)\n",
            "\n",
            "Epoch 33:\n"
          ],
          "name": "stdout"
        },
        {
          "output_type": "stream",
          "text": [
            "Loss=0.16 Batch_ID=937 Accuracy=99.11: 100%|██████████| 938/938 [00:21<00:00, 44.19it/s]\n",
            "  0%|          | 0/938 [00:00<?, ?it/s]"
          ],
          "name": "stderr"
        },
        {
          "output_type": "stream",
          "text": [
            "\n",
            "Validation set: Average loss: 0.0243, Accuracy: 9934/10000 (99.34%)\n",
            "\n",
            "Epoch 34:\n"
          ],
          "name": "stdout"
        },
        {
          "output_type": "stream",
          "text": [
            "Loss=0.21 Batch_ID=937 Accuracy=99.10: 100%|██████████| 938/938 [00:21<00:00, 44.08it/s]\n",
            "  0%|          | 0/938 [00:00<?, ?it/s]"
          ],
          "name": "stderr"
        },
        {
          "output_type": "stream",
          "text": [
            "\n",
            "Validation set: Average loss: 0.0237, Accuracy: 9934/10000 (99.34%)\n",
            "\n",
            "Epoch 35:\n"
          ],
          "name": "stdout"
        },
        {
          "output_type": "stream",
          "text": [
            "Loss=0.15 Batch_ID=937 Accuracy=99.06: 100%|██████████| 938/938 [00:20<00:00, 44.72it/s]\n",
            "  0%|          | 0/938 [00:00<?, ?it/s]"
          ],
          "name": "stderr"
        },
        {
          "output_type": "stream",
          "text": [
            "\n",
            "Validation set: Average loss: 0.0234, Accuracy: 9940/10000 (99.40%)\n",
            "\n",
            "Epoch 36:\n"
          ],
          "name": "stdout"
        },
        {
          "output_type": "stream",
          "text": [
            "Loss=0.20 Batch_ID=937 Accuracy=99.14: 100%|██████████| 938/938 [00:21<00:00, 43.89it/s]\n",
            "  0%|          | 0/938 [00:00<?, ?it/s]"
          ],
          "name": "stderr"
        },
        {
          "output_type": "stream",
          "text": [
            "\n",
            "Validation set: Average loss: 0.0237, Accuracy: 9935/10000 (99.35%)\n",
            "\n",
            "Epoch 37:\n"
          ],
          "name": "stdout"
        },
        {
          "output_type": "stream",
          "text": [
            "Loss=0.17 Batch_ID=937 Accuracy=99.06: 100%|██████████| 938/938 [00:20<00:00, 45.59it/s]\n",
            "  0%|          | 0/938 [00:00<?, ?it/s]"
          ],
          "name": "stderr"
        },
        {
          "output_type": "stream",
          "text": [
            "\n",
            "Validation set: Average loss: 0.0235, Accuracy: 9941/10000 (99.41%)\n",
            "\n",
            "Epoch 38:\n"
          ],
          "name": "stdout"
        },
        {
          "output_type": "stream",
          "text": [
            "Loss=0.15 Batch_ID=937 Accuracy=99.08: 100%|██████████| 938/938 [00:21<00:00, 43.74it/s]\n",
            "  0%|          | 0/938 [00:00<?, ?it/s]"
          ],
          "name": "stderr"
        },
        {
          "output_type": "stream",
          "text": [
            "\n",
            "Validation set: Average loss: 0.0235, Accuracy: 9932/10000 (99.32%)\n",
            "\n",
            "Epoch 39:\n"
          ],
          "name": "stdout"
        },
        {
          "output_type": "stream",
          "text": [
            "Loss=0.17 Batch_ID=937 Accuracy=99.08: 100%|██████████| 938/938 [00:21<00:00, 44.33it/s]\n",
            "  0%|          | 0/938 [00:00<?, ?it/s]"
          ],
          "name": "stderr"
        },
        {
          "output_type": "stream",
          "text": [
            "\n",
            "Validation set: Average loss: 0.0233, Accuracy: 9938/10000 (99.38%)\n",
            "\n",
            "Epoch 40:\n"
          ],
          "name": "stdout"
        },
        {
          "output_type": "stream",
          "text": [
            "Loss=0.21 Batch_ID=937 Accuracy=99.07: 100%|██████████| 938/938 [00:20<00:00, 45.87it/s]\n"
          ],
          "name": "stderr"
        },
        {
          "output_type": "stream",
          "text": [
            "\n",
            "Validation set: Average loss: 0.0237, Accuracy: 9939/10000 (99.39%)\n",
            "\n"
          ],
          "name": "stdout"
        }
      ]
    },
    {
      "cell_type": "markdown",
      "metadata": {
        "id": "dTuSMYF8A2Od",
        "colab_type": "text"
      },
      "source": [
        "### With L2 Regularization"
      ]
    },
    {
      "cell_type": "code",
      "metadata": {
        "id": "B4RDXDWhA7zA",
        "colab_type": "code",
        "colab": {
          "base_uri": "https://localhost:8080/",
          "height": 1000
        },
        "outputId": "4764dc70-74cc-4691-e3c5-3098049ff70e"
      },
      "source": [
        "l2_loss, l2_accuracy, incorrect_pred_l2 = run_model(l2=0.0001)"
      ],
      "execution_count": 18,
      "outputs": [
        {
          "output_type": "stream",
          "text": [
            "\r  0%|          | 0/938 [00:00<?, ?it/s]"
          ],
          "name": "stderr"
        },
        {
          "output_type": "stream",
          "text": [
            "Epoch 1:\n"
          ],
          "name": "stdout"
        },
        {
          "output_type": "stream",
          "text": [
            "Loss=0.20 Batch_ID=937 Accuracy=93.69: 100%|██████████| 938/938 [00:16<00:00, 55.20it/s]\n",
            "  0%|          | 0/938 [00:00<?, ?it/s]"
          ],
          "name": "stderr"
        },
        {
          "output_type": "stream",
          "text": [
            "\n",
            "Validation set: Average loss: 0.0838, Accuracy: 9804/10000 (98.04%)\n",
            "\n",
            "Epoch 2:\n"
          ],
          "name": "stdout"
        },
        {
          "output_type": "stream",
          "text": [
            "Loss=0.10 Batch_ID=937 Accuracy=97.72: 100%|██████████| 938/938 [00:17<00:00, 54.34it/s]\n",
            "  0%|          | 0/938 [00:00<?, ?it/s]"
          ],
          "name": "stderr"
        },
        {
          "output_type": "stream",
          "text": [
            "\n",
            "Validation set: Average loss: 0.0539, Accuracy: 9869/10000 (98.69%)\n",
            "\n",
            "Epoch 3:\n"
          ],
          "name": "stdout"
        },
        {
          "output_type": "stream",
          "text": [
            "Loss=0.08 Batch_ID=937 Accuracy=98.23: 100%|██████████| 938/938 [00:16<00:00, 60.23it/s]\n",
            "  0%|          | 0/938 [00:00<?, ?it/s]"
          ],
          "name": "stderr"
        },
        {
          "output_type": "stream",
          "text": [
            "\n",
            "Validation set: Average loss: 0.0420, Accuracy: 9898/10000 (98.98%)\n",
            "\n",
            "Epoch 4:\n"
          ],
          "name": "stdout"
        },
        {
          "output_type": "stream",
          "text": [
            "Loss=0.03 Batch_ID=937 Accuracy=98.35: 100%|██████████| 938/938 [00:18<00:00, 50.54it/s]\n",
            "  0%|          | 0/938 [00:00<?, ?it/s]"
          ],
          "name": "stderr"
        },
        {
          "output_type": "stream",
          "text": [
            "\n",
            "Validation set: Average loss: 0.0372, Accuracy: 9890/10000 (98.90%)\n",
            "\n",
            "Epoch 5:\n"
          ],
          "name": "stdout"
        },
        {
          "output_type": "stream",
          "text": [
            "Loss=0.15 Batch_ID=937 Accuracy=98.55: 100%|██████████| 938/938 [00:17<00:00, 53.79it/s]\n",
            "  0%|          | 0/938 [00:00<?, ?it/s]"
          ],
          "name": "stderr"
        },
        {
          "output_type": "stream",
          "text": [
            "\n",
            "Validation set: Average loss: 0.0339, Accuracy: 9903/10000 (99.03%)\n",
            "\n",
            "Epoch 6:\n"
          ],
          "name": "stdout"
        },
        {
          "output_type": "stream",
          "text": [
            "Loss=0.02 Batch_ID=937 Accuracy=98.91: 100%|██████████| 938/938 [00:16<00:00, 55.34it/s]\n",
            "  0%|          | 0/938 [00:00<?, ?it/s]"
          ],
          "name": "stderr"
        },
        {
          "output_type": "stream",
          "text": [
            "\n",
            "Validation set: Average loss: 0.0248, Accuracy: 9932/10000 (99.32%)\n",
            "\n",
            "Epoch 7:\n"
          ],
          "name": "stdout"
        },
        {
          "output_type": "stream",
          "text": [
            "Loss=0.03 Batch_ID=937 Accuracy=98.95: 100%|██████████| 938/938 [00:17<00:00, 54.38it/s]\n",
            "  0%|          | 0/938 [00:00<?, ?it/s]"
          ],
          "name": "stderr"
        },
        {
          "output_type": "stream",
          "text": [
            "\n",
            "Validation set: Average loss: 0.0250, Accuracy: 9930/10000 (99.30%)\n",
            "\n",
            "Epoch 8:\n"
          ],
          "name": "stdout"
        },
        {
          "output_type": "stream",
          "text": [
            "Loss=0.01 Batch_ID=937 Accuracy=99.01: 100%|██████████| 938/938 [00:17<00:00, 53.70it/s]\n",
            "  0%|          | 0/938 [00:00<?, ?it/s]"
          ],
          "name": "stderr"
        },
        {
          "output_type": "stream",
          "text": [
            "\n",
            "Validation set: Average loss: 0.0253, Accuracy: 9930/10000 (99.30%)\n",
            "\n",
            "Epoch 9:\n"
          ],
          "name": "stdout"
        },
        {
          "output_type": "stream",
          "text": [
            "Loss=0.10 Batch_ID=937 Accuracy=99.01: 100%|██████████| 938/938 [00:16<00:00, 66.99it/s]\n",
            "  0%|          | 0/938 [00:00<?, ?it/s]"
          ],
          "name": "stderr"
        },
        {
          "output_type": "stream",
          "text": [
            "\n",
            "Validation set: Average loss: 0.0242, Accuracy: 9934/10000 (99.34%)\n",
            "\n",
            "Epoch 10:\n"
          ],
          "name": "stdout"
        },
        {
          "output_type": "stream",
          "text": [
            "Loss=0.03 Batch_ID=937 Accuracy=99.06: 100%|██████████| 938/938 [00:17<00:00, 54.03it/s]\n",
            "  0%|          | 0/938 [00:00<?, ?it/s]"
          ],
          "name": "stderr"
        },
        {
          "output_type": "stream",
          "text": [
            "\n",
            "Validation set: Average loss: 0.0239, Accuracy: 9933/10000 (99.33%)\n",
            "\n",
            "Epoch 11:\n"
          ],
          "name": "stdout"
        },
        {
          "output_type": "stream",
          "text": [
            "Loss=0.17 Batch_ID=937 Accuracy=99.13: 100%|██████████| 938/938 [00:17<00:00, 54.42it/s]\n",
            "  0%|          | 0/938 [00:00<?, ?it/s]"
          ],
          "name": "stderr"
        },
        {
          "output_type": "stream",
          "text": [
            "\n",
            "Validation set: Average loss: 0.0236, Accuracy: 9933/10000 (99.33%)\n",
            "\n",
            "Epoch 12:\n"
          ],
          "name": "stdout"
        },
        {
          "output_type": "stream",
          "text": [
            "Loss=0.03 Batch_ID=937 Accuracy=99.08: 100%|██████████| 938/938 [00:16<00:00, 55.61it/s]\n",
            "  0%|          | 0/938 [00:00<?, ?it/s]"
          ],
          "name": "stderr"
        },
        {
          "output_type": "stream",
          "text": [
            "\n",
            "Validation set: Average loss: 0.0237, Accuracy: 9932/10000 (99.32%)\n",
            "\n",
            "Epoch 13:\n"
          ],
          "name": "stdout"
        },
        {
          "output_type": "stream",
          "text": [
            "Loss=0.04 Batch_ID=937 Accuracy=99.10: 100%|██████████| 938/938 [00:17<00:00, 54.87it/s]\n",
            "  0%|          | 0/938 [00:00<?, ?it/s]"
          ],
          "name": "stderr"
        },
        {
          "output_type": "stream",
          "text": [
            "\n",
            "Validation set: Average loss: 0.0242, Accuracy: 9929/10000 (99.29%)\n",
            "\n",
            "Epoch 14:\n"
          ],
          "name": "stdout"
        },
        {
          "output_type": "stream",
          "text": [
            "Loss=0.02 Batch_ID=937 Accuracy=99.11: 100%|██████████| 938/938 [00:17<00:00, 53.47it/s]\n",
            "  0%|          | 0/938 [00:00<?, ?it/s]"
          ],
          "name": "stderr"
        },
        {
          "output_type": "stream",
          "text": [
            "\n",
            "Validation set: Average loss: 0.0230, Accuracy: 9928/10000 (99.28%)\n",
            "\n",
            "Epoch 15:\n"
          ],
          "name": "stdout"
        },
        {
          "output_type": "stream",
          "text": [
            "Loss=0.08 Batch_ID=937 Accuracy=99.15: 100%|██████████| 938/938 [00:17<00:00, 54.19it/s]\n",
            "  0%|          | 0/938 [00:00<?, ?it/s]"
          ],
          "name": "stderr"
        },
        {
          "output_type": "stream",
          "text": [
            "\n",
            "Validation set: Average loss: 0.0237, Accuracy: 9928/10000 (99.28%)\n",
            "\n",
            "Epoch 16:\n"
          ],
          "name": "stdout"
        },
        {
          "output_type": "stream",
          "text": [
            "Loss=0.05 Batch_ID=937 Accuracy=99.12: 100%|██████████| 938/938 [00:17<00:00, 54.75it/s]\n",
            "  0%|          | 0/938 [00:00<?, ?it/s]"
          ],
          "name": "stderr"
        },
        {
          "output_type": "stream",
          "text": [
            "\n",
            "Validation set: Average loss: 0.0234, Accuracy: 9933/10000 (99.33%)\n",
            "\n",
            "Epoch 17:\n"
          ],
          "name": "stdout"
        },
        {
          "output_type": "stream",
          "text": [
            "Loss=0.08 Batch_ID=937 Accuracy=99.16: 100%|██████████| 938/938 [00:17<00:00, 54.76it/s]\n",
            "  0%|          | 0/938 [00:00<?, ?it/s]"
          ],
          "name": "stderr"
        },
        {
          "output_type": "stream",
          "text": [
            "\n",
            "Validation set: Average loss: 0.0233, Accuracy: 9932/10000 (99.32%)\n",
            "\n",
            "Epoch 18:\n"
          ],
          "name": "stdout"
        },
        {
          "output_type": "stream",
          "text": [
            "Loss=0.01 Batch_ID=937 Accuracy=99.16: 100%|██████████| 938/938 [00:17<00:00, 53.86it/s]\n",
            "  0%|          | 0/938 [00:00<?, ?it/s]"
          ],
          "name": "stderr"
        },
        {
          "output_type": "stream",
          "text": [
            "\n",
            "Validation set: Average loss: 0.0232, Accuracy: 9931/10000 (99.31%)\n",
            "\n",
            "Epoch 19:\n"
          ],
          "name": "stdout"
        },
        {
          "output_type": "stream",
          "text": [
            "Loss=0.04 Batch_ID=937 Accuracy=99.17: 100%|██████████| 938/938 [00:17<00:00, 55.05it/s]\n",
            "  0%|          | 0/938 [00:00<?, ?it/s]"
          ],
          "name": "stderr"
        },
        {
          "output_type": "stream",
          "text": [
            "\n",
            "Validation set: Average loss: 0.0232, Accuracy: 9932/10000 (99.32%)\n",
            "\n",
            "Epoch 20:\n"
          ],
          "name": "stdout"
        },
        {
          "output_type": "stream",
          "text": [
            "Loss=0.03 Batch_ID=937 Accuracy=99.16: 100%|██████████| 938/938 [00:17<00:00, 54.10it/s]\n",
            "  0%|          | 0/938 [00:00<?, ?it/s]"
          ],
          "name": "stderr"
        },
        {
          "output_type": "stream",
          "text": [
            "\n",
            "Validation set: Average loss: 0.0243, Accuracy: 9930/10000 (99.30%)\n",
            "\n",
            "Epoch 21:\n"
          ],
          "name": "stdout"
        },
        {
          "output_type": "stream",
          "text": [
            "Loss=0.03 Batch_ID=937 Accuracy=99.14: 100%|██████████| 938/938 [00:17<00:00, 53.41it/s]\n",
            "  0%|          | 0/938 [00:00<?, ?it/s]"
          ],
          "name": "stderr"
        },
        {
          "output_type": "stream",
          "text": [
            "\n",
            "Validation set: Average loss: 0.0233, Accuracy: 9928/10000 (99.28%)\n",
            "\n",
            "Epoch 22:\n"
          ],
          "name": "stdout"
        },
        {
          "output_type": "stream",
          "text": [
            "Loss=0.02 Batch_ID=937 Accuracy=99.16: 100%|██████████| 938/938 [00:16<00:00, 55.34it/s]\n",
            "  0%|          | 0/938 [00:00<?, ?it/s]"
          ],
          "name": "stderr"
        },
        {
          "output_type": "stream",
          "text": [
            "\n",
            "Validation set: Average loss: 0.0232, Accuracy: 9930/10000 (99.30%)\n",
            "\n",
            "Epoch 23:\n"
          ],
          "name": "stdout"
        },
        {
          "output_type": "stream",
          "text": [
            "Loss=0.03 Batch_ID=937 Accuracy=99.16: 100%|██████████| 938/938 [00:17<00:00, 53.47it/s]\n",
            "  0%|          | 0/938 [00:00<?, ?it/s]"
          ],
          "name": "stderr"
        },
        {
          "output_type": "stream",
          "text": [
            "\n",
            "Validation set: Average loss: 0.0236, Accuracy: 9930/10000 (99.30%)\n",
            "\n",
            "Epoch 24:\n"
          ],
          "name": "stdout"
        },
        {
          "output_type": "stream",
          "text": [
            "Loss=0.03 Batch_ID=937 Accuracy=99.15: 100%|██████████| 938/938 [00:17<00:00, 53.74it/s]\n",
            "  0%|          | 0/938 [00:00<?, ?it/s]"
          ],
          "name": "stderr"
        },
        {
          "output_type": "stream",
          "text": [
            "\n",
            "Validation set: Average loss: 0.0233, Accuracy: 9931/10000 (99.31%)\n",
            "\n",
            "Epoch 25:\n"
          ],
          "name": "stdout"
        },
        {
          "output_type": "stream",
          "text": [
            "Loss=0.06 Batch_ID=937 Accuracy=99.13: 100%|██████████| 938/938 [00:16<00:00, 56.13it/s]\n",
            "  0%|          | 0/938 [00:00<?, ?it/s]"
          ],
          "name": "stderr"
        },
        {
          "output_type": "stream",
          "text": [
            "\n",
            "Validation set: Average loss: 0.0239, Accuracy: 9931/10000 (99.31%)\n",
            "\n",
            "Epoch 26:\n"
          ],
          "name": "stdout"
        },
        {
          "output_type": "stream",
          "text": [
            "Loss=0.01 Batch_ID=937 Accuracy=99.15: 100%|██████████| 938/938 [00:17<00:00, 54.13it/s]\n",
            "  0%|          | 0/938 [00:00<?, ?it/s]"
          ],
          "name": "stderr"
        },
        {
          "output_type": "stream",
          "text": [
            "\n",
            "Validation set: Average loss: 0.0235, Accuracy: 9932/10000 (99.32%)\n",
            "\n",
            "Epoch 27:\n"
          ],
          "name": "stdout"
        },
        {
          "output_type": "stream",
          "text": [
            "Loss=0.08 Batch_ID=937 Accuracy=99.12: 100%|██████████| 938/938 [00:17<00:00, 53.69it/s]\n",
            "  0%|          | 0/938 [00:00<?, ?it/s]"
          ],
          "name": "stderr"
        },
        {
          "output_type": "stream",
          "text": [
            "\n",
            "Validation set: Average loss: 0.0227, Accuracy: 9932/10000 (99.32%)\n",
            "\n",
            "Epoch 28:\n"
          ],
          "name": "stdout"
        },
        {
          "output_type": "stream",
          "text": [
            "Loss=0.04 Batch_ID=937 Accuracy=99.14: 100%|██████████| 938/938 [00:16<00:00, 56.42it/s]\n",
            "  0%|          | 0/938 [00:00<?, ?it/s]"
          ],
          "name": "stderr"
        },
        {
          "output_type": "stream",
          "text": [
            "\n",
            "Validation set: Average loss: 0.0236, Accuracy: 9935/10000 (99.35%)\n",
            "\n",
            "Epoch 29:\n"
          ],
          "name": "stdout"
        },
        {
          "output_type": "stream",
          "text": [
            "Loss=0.03 Batch_ID=937 Accuracy=99.14: 100%|██████████| 938/938 [00:16<00:00, 56.15it/s]\n",
            "  0%|          | 0/938 [00:00<?, ?it/s]"
          ],
          "name": "stderr"
        },
        {
          "output_type": "stream",
          "text": [
            "\n",
            "Validation set: Average loss: 0.0234, Accuracy: 9929/10000 (99.29%)\n",
            "\n",
            "Epoch 30:\n"
          ],
          "name": "stdout"
        },
        {
          "output_type": "stream",
          "text": [
            "Loss=0.01 Batch_ID=937 Accuracy=99.11: 100%|██████████| 938/938 [00:17<00:00, 54.36it/s]\n",
            "  0%|          | 0/938 [00:00<?, ?it/s]"
          ],
          "name": "stderr"
        },
        {
          "output_type": "stream",
          "text": [
            "\n",
            "Validation set: Average loss: 0.0231, Accuracy: 9934/10000 (99.34%)\n",
            "\n",
            "Epoch 31:\n"
          ],
          "name": "stdout"
        },
        {
          "output_type": "stream",
          "text": [
            "Loss=0.17 Batch_ID=937 Accuracy=99.14: 100%|██████████| 938/938 [00:16<00:00, 64.56it/s]\n",
            "  0%|          | 0/938 [00:00<?, ?it/s]"
          ],
          "name": "stderr"
        },
        {
          "output_type": "stream",
          "text": [
            "\n",
            "Validation set: Average loss: 0.0234, Accuracy: 9931/10000 (99.31%)\n",
            "\n",
            "Epoch 32:\n"
          ],
          "name": "stdout"
        },
        {
          "output_type": "stream",
          "text": [
            "Loss=0.06 Batch_ID=937 Accuracy=99.10: 100%|██████████| 938/938 [00:17<00:00, 55.01it/s]\n",
            "  0%|          | 0/938 [00:00<?, ?it/s]"
          ],
          "name": "stderr"
        },
        {
          "output_type": "stream",
          "text": [
            "\n",
            "Validation set: Average loss: 0.0226, Accuracy: 9935/10000 (99.35%)\n",
            "\n",
            "Epoch 33:\n"
          ],
          "name": "stdout"
        },
        {
          "output_type": "stream",
          "text": [
            "Loss=0.06 Batch_ID=937 Accuracy=99.12: 100%|██████████| 938/938 [00:17<00:00, 54.71it/s]\n",
            "  0%|          | 0/938 [00:00<?, ?it/s]"
          ],
          "name": "stderr"
        },
        {
          "output_type": "stream",
          "text": [
            "\n",
            "Validation set: Average loss: 0.0233, Accuracy: 9934/10000 (99.34%)\n",
            "\n",
            "Epoch 34:\n"
          ],
          "name": "stdout"
        },
        {
          "output_type": "stream",
          "text": [
            "Loss=0.05 Batch_ID=937 Accuracy=99.16: 100%|██████████| 938/938 [00:18<00:00, 51.00it/s]\n",
            "  0%|          | 0/938 [00:00<?, ?it/s]"
          ],
          "name": "stderr"
        },
        {
          "output_type": "stream",
          "text": [
            "\n",
            "Validation set: Average loss: 0.0233, Accuracy: 9933/10000 (99.33%)\n",
            "\n",
            "Epoch 35:\n"
          ],
          "name": "stdout"
        },
        {
          "output_type": "stream",
          "text": [
            "Loss=0.04 Batch_ID=937 Accuracy=99.15: 100%|██████████| 938/938 [00:18<00:00, 51.43it/s]\n",
            "  0%|          | 0/938 [00:00<?, ?it/s]"
          ],
          "name": "stderr"
        },
        {
          "output_type": "stream",
          "text": [
            "\n",
            "Validation set: Average loss: 0.0229, Accuracy: 9933/10000 (99.33%)\n",
            "\n",
            "Epoch 36:\n"
          ],
          "name": "stdout"
        },
        {
          "output_type": "stream",
          "text": [
            "Loss=0.03 Batch_ID=937 Accuracy=99.17: 100%|██████████| 938/938 [00:18<00:00, 50.67it/s]\n",
            "  0%|          | 0/938 [00:00<?, ?it/s]"
          ],
          "name": "stderr"
        },
        {
          "output_type": "stream",
          "text": [
            "\n",
            "Validation set: Average loss: 0.0233, Accuracy: 9929/10000 (99.29%)\n",
            "\n",
            "Epoch 37:\n"
          ],
          "name": "stdout"
        },
        {
          "output_type": "stream",
          "text": [
            "Loss=0.07 Batch_ID=937 Accuracy=99.17: 100%|██████████| 938/938 [00:18<00:00, 50.44it/s]\n",
            "  0%|          | 0/938 [00:00<?, ?it/s]"
          ],
          "name": "stderr"
        },
        {
          "output_type": "stream",
          "text": [
            "\n",
            "Validation set: Average loss: 0.0238, Accuracy: 9928/10000 (99.28%)\n",
            "\n",
            "Epoch 38:\n"
          ],
          "name": "stdout"
        },
        {
          "output_type": "stream",
          "text": [
            "Loss=0.17 Batch_ID=937 Accuracy=99.13: 100%|██████████| 938/938 [00:18<00:00, 51.62it/s]\n",
            "  0%|          | 0/938 [00:00<?, ?it/s]"
          ],
          "name": "stderr"
        },
        {
          "output_type": "stream",
          "text": [
            "\n",
            "Validation set: Average loss: 0.0233, Accuracy: 9935/10000 (99.35%)\n",
            "\n",
            "Epoch 39:\n"
          ],
          "name": "stdout"
        },
        {
          "output_type": "stream",
          "text": [
            "Loss=0.23 Batch_ID=937 Accuracy=99.17: 100%|██████████| 938/938 [00:18<00:00, 49.86it/s]\n",
            "  0%|          | 0/938 [00:00<?, ?it/s]"
          ],
          "name": "stderr"
        },
        {
          "output_type": "stream",
          "text": [
            "\n",
            "Validation set: Average loss: 0.0228, Accuracy: 9931/10000 (99.31%)\n",
            "\n",
            "Epoch 40:\n"
          ],
          "name": "stdout"
        },
        {
          "output_type": "stream",
          "text": [
            "Loss=0.02 Batch_ID=937 Accuracy=99.17: 100%|██████████| 938/938 [00:18<00:00, 50.39it/s]\n"
          ],
          "name": "stderr"
        },
        {
          "output_type": "stream",
          "text": [
            "\n",
            "Validation set: Average loss: 0.0231, Accuracy: 9935/10000 (99.35%)\n",
            "\n"
          ],
          "name": "stdout"
        }
      ]
    },
    {
      "cell_type": "markdown",
      "metadata": {
        "id": "7De7ZyYVA4IO",
        "colab_type": "text"
      },
      "source": [
        "### With L1 and L2 Regularization"
      ]
    },
    {
      "cell_type": "code",
      "metadata": {
        "id": "5-HS1MGaA7JG",
        "colab_type": "code",
        "colab": {
          "base_uri": "https://localhost:8080/",
          "height": 1000
        },
        "outputId": "566e4d65-f121-4aa4-9313-1709bb137651"
      },
      "source": [
        "l1_l2_loss, l1_l2_accuracy, incorrect_pred_l1_l2 = run_model(l1=0.001, l2=0.0001)"
      ],
      "execution_count": 19,
      "outputs": [
        {
          "output_type": "stream",
          "text": [
            "\r  0%|          | 0/938 [00:00<?, ?it/s]"
          ],
          "name": "stderr"
        },
        {
          "output_type": "stream",
          "text": [
            "Epoch 1:\n"
          ],
          "name": "stdout"
        },
        {
          "output_type": "stream",
          "text": [
            "/usr/local/lib/python3.6/dist-packages/torch/nn/_reduction.py:43: UserWarning: size_average and reduce args will be deprecated, please use reduction='sum' instead.\n",
            "  warnings.warn(warning.format(ret))\n",
            "Loss=0.55 Batch_ID=937 Accuracy=93.17: 100%|██████████| 938/938 [00:21<00:00, 42.79it/s]\n",
            "  0%|          | 0/938 [00:00<?, ?it/s]"
          ],
          "name": "stderr"
        },
        {
          "output_type": "stream",
          "text": [
            "\n",
            "Validation set: Average loss: 0.1525, Accuracy: 9679/10000 (96.79%)\n",
            "\n",
            "Epoch 2:\n"
          ],
          "name": "stdout"
        },
        {
          "output_type": "stream",
          "text": [
            "Loss=0.52 Batch_ID=937 Accuracy=96.84: 100%|██████████| 938/938 [00:21<00:00, 43.48it/s]\n",
            "  0%|          | 0/938 [00:00<?, ?it/s]"
          ],
          "name": "stderr"
        },
        {
          "output_type": "stream",
          "text": [
            "\n",
            "Validation set: Average loss: 0.0929, Accuracy: 9792/10000 (97.92%)\n",
            "\n",
            "Epoch 3:\n"
          ],
          "name": "stdout"
        },
        {
          "output_type": "stream",
          "text": [
            "Loss=0.30 Batch_ID=937 Accuracy=97.00: 100%|██████████| 938/938 [00:21<00:00, 43.99it/s]\n",
            "  0%|          | 0/938 [00:00<?, ?it/s]"
          ],
          "name": "stderr"
        },
        {
          "output_type": "stream",
          "text": [
            "\n",
            "Validation set: Average loss: 0.0797, Accuracy: 9785/10000 (97.85%)\n",
            "\n",
            "Epoch 4:\n"
          ],
          "name": "stdout"
        },
        {
          "output_type": "stream",
          "text": [
            "Loss=0.32 Batch_ID=937 Accuracy=97.23: 100%|██████████| 938/938 [00:21<00:00, 43.90it/s]\n",
            "  0%|          | 0/938 [00:00<?, ?it/s]"
          ],
          "name": "stderr"
        },
        {
          "output_type": "stream",
          "text": [
            "\n",
            "Validation set: Average loss: 0.0759, Accuracy: 9819/10000 (98.19%)\n",
            "\n",
            "Epoch 5:\n"
          ],
          "name": "stdout"
        },
        {
          "output_type": "stream",
          "text": [
            "Loss=0.30 Batch_ID=937 Accuracy=97.36: 100%|██████████| 938/938 [00:21<00:00, 43.78it/s]\n",
            "  0%|          | 0/938 [00:00<?, ?it/s]"
          ],
          "name": "stderr"
        },
        {
          "output_type": "stream",
          "text": [
            "\n",
            "Validation set: Average loss: 0.1106, Accuracy: 9680/10000 (96.80%)\n",
            "\n",
            "Epoch 6:\n"
          ],
          "name": "stdout"
        },
        {
          "output_type": "stream",
          "text": [
            "Loss=0.23 Batch_ID=937 Accuracy=98.43: 100%|██████████| 938/938 [00:21<00:00, 50.41it/s]\n",
            "  0%|          | 0/938 [00:00<?, ?it/s]"
          ],
          "name": "stderr"
        },
        {
          "output_type": "stream",
          "text": [
            "\n",
            "Validation set: Average loss: 0.0363, Accuracy: 9910/10000 (99.10%)\n",
            "\n",
            "Epoch 7:\n"
          ],
          "name": "stdout"
        },
        {
          "output_type": "stream",
          "text": [
            "Loss=0.18 Batch_ID=937 Accuracy=98.47: 100%|██████████| 938/938 [00:21<00:00, 53.25it/s]\n",
            "  0%|          | 0/938 [00:00<?, ?it/s]"
          ],
          "name": "stderr"
        },
        {
          "output_type": "stream",
          "text": [
            "\n",
            "Validation set: Average loss: 0.0381, Accuracy: 9900/10000 (99.00%)\n",
            "\n",
            "Epoch 8:\n"
          ],
          "name": "stdout"
        },
        {
          "output_type": "stream",
          "text": [
            "Loss=0.29 Batch_ID=937 Accuracy=98.43: 100%|██████████| 938/938 [00:20<00:00, 45.66it/s]\n",
            "  0%|          | 0/938 [00:00<?, ?it/s]"
          ],
          "name": "stderr"
        },
        {
          "output_type": "stream",
          "text": [
            "\n",
            "Validation set: Average loss: 0.0470, Accuracy: 9874/10000 (98.74%)\n",
            "\n",
            "Epoch 9:\n"
          ],
          "name": "stdout"
        },
        {
          "output_type": "stream",
          "text": [
            "Loss=0.20 Batch_ID=937 Accuracy=98.34: 100%|██████████| 938/938 [00:21<00:00, 44.16it/s]\n",
            "  0%|          | 0/938 [00:00<?, ?it/s]"
          ],
          "name": "stderr"
        },
        {
          "output_type": "stream",
          "text": [
            "\n",
            "Validation set: Average loss: 0.0443, Accuracy: 9880/10000 (98.80%)\n",
            "\n",
            "Epoch 10:\n"
          ],
          "name": "stdout"
        },
        {
          "output_type": "stream",
          "text": [
            "Loss=0.20 Batch_ID=937 Accuracy=98.27: 100%|██████████| 938/938 [00:21<00:00, 43.62it/s]\n",
            "  0%|          | 0/938 [00:00<?, ?it/s]"
          ],
          "name": "stderr"
        },
        {
          "output_type": "stream",
          "text": [
            "\n",
            "Validation set: Average loss: 0.0439, Accuracy: 9893/10000 (98.93%)\n",
            "\n",
            "Epoch 11:\n"
          ],
          "name": "stdout"
        },
        {
          "output_type": "stream",
          "text": [
            "Loss=0.16 Batch_ID=937 Accuracy=98.85: 100%|██████████| 938/938 [00:20<00:00, 44.91it/s]\n",
            "  0%|          | 0/938 [00:00<?, ?it/s]"
          ],
          "name": "stderr"
        },
        {
          "output_type": "stream",
          "text": [
            "\n",
            "Validation set: Average loss: 0.0269, Accuracy: 9927/10000 (99.27%)\n",
            "\n",
            "Epoch 12:\n"
          ],
          "name": "stdout"
        },
        {
          "output_type": "stream",
          "text": [
            "Loss=0.19 Batch_ID=937 Accuracy=98.91: 100%|██████████| 938/938 [00:21<00:00, 43.60it/s]\n",
            "  0%|          | 0/938 [00:00<?, ?it/s]"
          ],
          "name": "stderr"
        },
        {
          "output_type": "stream",
          "text": [
            "\n",
            "Validation set: Average loss: 0.0256, Accuracy: 9935/10000 (99.35%)\n",
            "\n",
            "Epoch 13:\n"
          ],
          "name": "stdout"
        },
        {
          "output_type": "stream",
          "text": [
            "Loss=0.18 Batch_ID=937 Accuracy=98.88: 100%|██████████| 938/938 [00:21<00:00, 43.87it/s]\n",
            "  0%|          | 0/938 [00:00<?, ?it/s]"
          ],
          "name": "stderr"
        },
        {
          "output_type": "stream",
          "text": [
            "\n",
            "Validation set: Average loss: 0.0272, Accuracy: 9930/10000 (99.30%)\n",
            "\n",
            "Epoch 14:\n"
          ],
          "name": "stdout"
        },
        {
          "output_type": "stream",
          "text": [
            "Loss=0.17 Batch_ID=937 Accuracy=98.94: 100%|██████████| 938/938 [00:21<00:00, 43.02it/s]\n",
            "  0%|          | 0/938 [00:00<?, ?it/s]"
          ],
          "name": "stderr"
        },
        {
          "output_type": "stream",
          "text": [
            "\n",
            "Validation set: Average loss: 0.0271, Accuracy: 9931/10000 (99.31%)\n",
            "\n",
            "Epoch 15:\n"
          ],
          "name": "stdout"
        },
        {
          "output_type": "stream",
          "text": [
            "Loss=0.17 Batch_ID=937 Accuracy=98.91: 100%|██████████| 938/938 [00:21<00:00, 43.58it/s]\n",
            "  0%|          | 0/938 [00:00<?, ?it/s]"
          ],
          "name": "stderr"
        },
        {
          "output_type": "stream",
          "text": [
            "\n",
            "Validation set: Average loss: 0.0286, Accuracy: 9930/10000 (99.30%)\n",
            "\n",
            "Epoch 16:\n"
          ],
          "name": "stdout"
        },
        {
          "output_type": "stream",
          "text": [
            "Loss=0.17 Batch_ID=937 Accuracy=98.96: 100%|██████████| 938/938 [00:20<00:00, 45.04it/s]\n",
            "  0%|          | 0/938 [00:00<?, ?it/s]"
          ],
          "name": "stderr"
        },
        {
          "output_type": "stream",
          "text": [
            "\n",
            "Validation set: Average loss: 0.0254, Accuracy: 9933/10000 (99.33%)\n",
            "\n",
            "Epoch 17:\n"
          ],
          "name": "stdout"
        },
        {
          "output_type": "stream",
          "text": [
            "Loss=0.21 Batch_ID=937 Accuracy=99.02: 100%|██████████| 938/938 [00:21<00:00, 43.93it/s]\n",
            "  0%|          | 0/938 [00:00<?, ?it/s]"
          ],
          "name": "stderr"
        },
        {
          "output_type": "stream",
          "text": [
            "\n",
            "Validation set: Average loss: 0.0250, Accuracy: 9936/10000 (99.36%)\n",
            "\n",
            "Epoch 18:\n"
          ],
          "name": "stdout"
        },
        {
          "output_type": "stream",
          "text": [
            "Loss=0.15 Batch_ID=937 Accuracy=99.08: 100%|██████████| 938/938 [00:21<00:00, 43.78it/s]\n",
            "  0%|          | 0/938 [00:00<?, ?it/s]"
          ],
          "name": "stderr"
        },
        {
          "output_type": "stream",
          "text": [
            "\n",
            "Validation set: Average loss: 0.0246, Accuracy: 9936/10000 (99.36%)\n",
            "\n",
            "Epoch 19:\n"
          ],
          "name": "stdout"
        },
        {
          "output_type": "stream",
          "text": [
            "Loss=0.24 Batch_ID=937 Accuracy=99.05: 100%|██████████| 938/938 [00:21<00:00, 44.13it/s]\n",
            "  0%|          | 0/938 [00:00<?, ?it/s]"
          ],
          "name": "stderr"
        },
        {
          "output_type": "stream",
          "text": [
            "\n",
            "Validation set: Average loss: 0.0245, Accuracy: 9938/10000 (99.38%)\n",
            "\n",
            "Epoch 20:\n"
          ],
          "name": "stdout"
        },
        {
          "output_type": "stream",
          "text": [
            "Loss=0.17 Batch_ID=937 Accuracy=99.06: 100%|██████████| 938/938 [00:21<00:00, 43.31it/s]\n",
            "  0%|          | 0/938 [00:00<?, ?it/s]"
          ],
          "name": "stderr"
        },
        {
          "output_type": "stream",
          "text": [
            "\n",
            "Validation set: Average loss: 0.0251, Accuracy: 9937/10000 (99.37%)\n",
            "\n",
            "Epoch 21:\n"
          ],
          "name": "stdout"
        },
        {
          "output_type": "stream",
          "text": [
            "Loss=0.15 Batch_ID=937 Accuracy=99.09: 100%|██████████| 938/938 [00:20<00:00, 44.74it/s]\n",
            "  0%|          | 0/938 [00:00<?, ?it/s]"
          ],
          "name": "stderr"
        },
        {
          "output_type": "stream",
          "text": [
            "\n",
            "Validation set: Average loss: 0.0243, Accuracy: 9939/10000 (99.39%)\n",
            "\n",
            "Epoch 22:\n"
          ],
          "name": "stdout"
        },
        {
          "output_type": "stream",
          "text": [
            "Loss=0.15 Batch_ID=937 Accuracy=99.09: 100%|██████████| 938/938 [00:21<00:00, 43.32it/s]\n",
            "  0%|          | 0/938 [00:00<?, ?it/s]"
          ],
          "name": "stderr"
        },
        {
          "output_type": "stream",
          "text": [
            "\n",
            "Validation set: Average loss: 0.0247, Accuracy: 9940/10000 (99.40%)\n",
            "\n",
            "Epoch 23:\n"
          ],
          "name": "stdout"
        },
        {
          "output_type": "stream",
          "text": [
            "Loss=0.23 Batch_ID=937 Accuracy=99.04: 100%|██████████| 938/938 [00:21<00:00, 43.16it/s]\n",
            "  0%|          | 0/938 [00:00<?, ?it/s]"
          ],
          "name": "stderr"
        },
        {
          "output_type": "stream",
          "text": [
            "\n",
            "Validation set: Average loss: 0.0247, Accuracy: 9939/10000 (99.39%)\n",
            "\n",
            "Epoch 24:\n"
          ],
          "name": "stdout"
        },
        {
          "output_type": "stream",
          "text": [
            "Loss=0.15 Batch_ID=937 Accuracy=99.07: 100%|██████████| 938/938 [00:21<00:00, 43.86it/s]\n",
            "  0%|          | 0/938 [00:00<?, ?it/s]"
          ],
          "name": "stderr"
        },
        {
          "output_type": "stream",
          "text": [
            "\n",
            "Validation set: Average loss: 0.0239, Accuracy: 9937/10000 (99.37%)\n",
            "\n",
            "Epoch 25:\n"
          ],
          "name": "stdout"
        },
        {
          "output_type": "stream",
          "text": [
            "Loss=0.18 Batch_ID=937 Accuracy=99.10: 100%|██████████| 938/938 [00:21<00:00, 53.74it/s]\n",
            "  0%|          | 0/938 [00:00<?, ?it/s]"
          ],
          "name": "stderr"
        },
        {
          "output_type": "stream",
          "text": [
            "\n",
            "Validation set: Average loss: 0.0236, Accuracy: 9938/10000 (99.38%)\n",
            "\n",
            "Epoch 26:\n"
          ],
          "name": "stdout"
        },
        {
          "output_type": "stream",
          "text": [
            "Loss=0.16 Batch_ID=937 Accuracy=99.11: 100%|██████████| 938/938 [00:21<00:00, 44.32it/s]\n",
            "  0%|          | 0/938 [00:00<?, ?it/s]"
          ],
          "name": "stderr"
        },
        {
          "output_type": "stream",
          "text": [
            "\n",
            "Validation set: Average loss: 0.0243, Accuracy: 9937/10000 (99.37%)\n",
            "\n",
            "Epoch 27:\n"
          ],
          "name": "stdout"
        },
        {
          "output_type": "stream",
          "text": [
            "Loss=0.23 Batch_ID=937 Accuracy=99.10: 100%|██████████| 938/938 [00:21<00:00, 44.10it/s]\n",
            "  0%|          | 0/938 [00:00<?, ?it/s]"
          ],
          "name": "stderr"
        },
        {
          "output_type": "stream",
          "text": [
            "\n",
            "Validation set: Average loss: 0.0246, Accuracy: 9935/10000 (99.35%)\n",
            "\n",
            "Epoch 28:\n"
          ],
          "name": "stdout"
        },
        {
          "output_type": "stream",
          "text": [
            "Loss=0.13 Batch_ID=937 Accuracy=99.08: 100%|██████████| 938/938 [00:21<00:00, 43.99it/s]\n",
            "  0%|          | 0/938 [00:00<?, ?it/s]"
          ],
          "name": "stderr"
        },
        {
          "output_type": "stream",
          "text": [
            "\n",
            "Validation set: Average loss: 0.0238, Accuracy: 9943/10000 (99.43%)\n",
            "\n",
            "Epoch 29:\n"
          ],
          "name": "stdout"
        },
        {
          "output_type": "stream",
          "text": [
            "Loss=0.14 Batch_ID=937 Accuracy=99.09: 100%|██████████| 938/938 [00:20<00:00, 45.72it/s]\n",
            "  0%|          | 0/938 [00:00<?, ?it/s]"
          ],
          "name": "stderr"
        },
        {
          "output_type": "stream",
          "text": [
            "\n",
            "Validation set: Average loss: 0.0241, Accuracy: 9941/10000 (99.41%)\n",
            "\n",
            "Epoch 30:\n"
          ],
          "name": "stdout"
        },
        {
          "output_type": "stream",
          "text": [
            "Loss=0.15 Batch_ID=937 Accuracy=99.11: 100%|██████████| 938/938 [00:20<00:00, 44.74it/s]\n",
            "  0%|          | 0/938 [00:00<?, ?it/s]"
          ],
          "name": "stderr"
        },
        {
          "output_type": "stream",
          "text": [
            "\n",
            "Validation set: Average loss: 0.0241, Accuracy: 9941/10000 (99.41%)\n",
            "\n",
            "Epoch 31:\n"
          ],
          "name": "stdout"
        },
        {
          "output_type": "stream",
          "text": [
            "Loss=0.15 Batch_ID=937 Accuracy=99.06: 100%|██████████| 938/938 [00:21<00:00, 44.15it/s]\n",
            "  0%|          | 0/938 [00:00<?, ?it/s]"
          ],
          "name": "stderr"
        },
        {
          "output_type": "stream",
          "text": [
            "\n",
            "Validation set: Average loss: 0.0247, Accuracy: 9936/10000 (99.36%)\n",
            "\n",
            "Epoch 32:\n"
          ],
          "name": "stdout"
        },
        {
          "output_type": "stream",
          "text": [
            "Loss=0.15 Batch_ID=937 Accuracy=99.06: 100%|██████████| 938/938 [00:20<00:00, 45.24it/s]\n",
            "  0%|          | 0/938 [00:00<?, ?it/s]"
          ],
          "name": "stderr"
        },
        {
          "output_type": "stream",
          "text": [
            "\n",
            "Validation set: Average loss: 0.0251, Accuracy: 9939/10000 (99.39%)\n",
            "\n",
            "Epoch 33:\n"
          ],
          "name": "stdout"
        },
        {
          "output_type": "stream",
          "text": [
            "Loss=0.20 Batch_ID=937 Accuracy=99.07: 100%|██████████| 938/938 [00:20<00:00, 52.95it/s]\n",
            "  0%|          | 0/938 [00:00<?, ?it/s]"
          ],
          "name": "stderr"
        },
        {
          "output_type": "stream",
          "text": [
            "\n",
            "Validation set: Average loss: 0.0243, Accuracy: 9941/10000 (99.41%)\n",
            "\n",
            "Epoch 34:\n"
          ],
          "name": "stdout"
        },
        {
          "output_type": "stream",
          "text": [
            "Loss=0.14 Batch_ID=937 Accuracy=99.06: 100%|██████████| 938/938 [00:20<00:00, 44.91it/s]\n",
            "  0%|          | 0/938 [00:00<?, ?it/s]"
          ],
          "name": "stderr"
        },
        {
          "output_type": "stream",
          "text": [
            "\n",
            "Validation set: Average loss: 0.0239, Accuracy: 9944/10000 (99.44%)\n",
            "\n",
            "Epoch 35:\n"
          ],
          "name": "stdout"
        },
        {
          "output_type": "stream",
          "text": [
            "Loss=0.22 Batch_ID=937 Accuracy=99.08: 100%|██████████| 938/938 [00:21<00:00, 44.16it/s]\n",
            "  0%|          | 0/938 [00:00<?, ?it/s]"
          ],
          "name": "stderr"
        },
        {
          "output_type": "stream",
          "text": [
            "\n",
            "Validation set: Average loss: 0.0245, Accuracy: 9940/10000 (99.40%)\n",
            "\n",
            "Epoch 36:\n"
          ],
          "name": "stdout"
        },
        {
          "output_type": "stream",
          "text": [
            "Loss=0.16 Batch_ID=937 Accuracy=99.12: 100%|██████████| 938/938 [00:21<00:00, 44.02it/s]\n",
            "  0%|          | 0/938 [00:00<?, ?it/s]"
          ],
          "name": "stderr"
        },
        {
          "output_type": "stream",
          "text": [
            "\n",
            "Validation set: Average loss: 0.0238, Accuracy: 9942/10000 (99.42%)\n",
            "\n",
            "Epoch 37:\n"
          ],
          "name": "stdout"
        },
        {
          "output_type": "stream",
          "text": [
            "Loss=0.18 Batch_ID=937 Accuracy=99.12: 100%|██████████| 938/938 [00:20<00:00, 45.22it/s]\n",
            "  0%|          | 0/938 [00:00<?, ?it/s]"
          ],
          "name": "stderr"
        },
        {
          "output_type": "stream",
          "text": [
            "\n",
            "Validation set: Average loss: 0.0240, Accuracy: 9938/10000 (99.38%)\n",
            "\n",
            "Epoch 38:\n"
          ],
          "name": "stdout"
        },
        {
          "output_type": "stream",
          "text": [
            "Loss=0.19 Batch_ID=937 Accuracy=99.05: 100%|██████████| 938/938 [00:21<00:00, 43.80it/s]\n",
            "  0%|          | 0/938 [00:00<?, ?it/s]"
          ],
          "name": "stderr"
        },
        {
          "output_type": "stream",
          "text": [
            "\n",
            "Validation set: Average loss: 0.0241, Accuracy: 9940/10000 (99.40%)\n",
            "\n",
            "Epoch 39:\n"
          ],
          "name": "stdout"
        },
        {
          "output_type": "stream",
          "text": [
            "Loss=0.19 Batch_ID=937 Accuracy=99.06: 100%|██████████| 938/938 [00:20<00:00, 44.75it/s]\n",
            "  0%|          | 0/938 [00:00<?, ?it/s]"
          ],
          "name": "stderr"
        },
        {
          "output_type": "stream",
          "text": [
            "\n",
            "Validation set: Average loss: 0.0241, Accuracy: 9939/10000 (99.39%)\n",
            "\n",
            "Epoch 40:\n"
          ],
          "name": "stdout"
        },
        {
          "output_type": "stream",
          "text": [
            "Loss=0.22 Batch_ID=937 Accuracy=99.11: 100%|██████████| 938/938 [00:20<00:00, 45.23it/s]\n"
          ],
          "name": "stderr"
        },
        {
          "output_type": "stream",
          "text": [
            "\n",
            "Validation set: Average loss: 0.0245, Accuracy: 9936/10000 (99.36%)\n",
            "\n"
          ],
          "name": "stdout"
        }
      ]
    },
    {
      "cell_type": "markdown",
      "metadata": {
        "id": "2o99Jq1XTdo-",
        "colab_type": "text"
      },
      "source": [
        "## Plotting Results\n",
        "Plotting changes in validation loss and accuracy obtained during model training in the following scenarios:\n",
        "1. Without L1 and L2 regularization\n",
        "2. With L1 regularization\n",
        "3. With L2 regularization\n",
        "4. With L1 and L2 regularization"
      ]
    },
    {
      "cell_type": "code",
      "metadata": {
        "id": "0X1Y72EbGgpr",
        "colab_type": "code",
        "colab": {}
      },
      "source": [
        "def plot_metric(plain, l1, l2, l1_l2, metric):\n",
        "    # Initialize a figure\n",
        "    fig = plt.figure(figsize=(13, 11))\n",
        "\n",
        "    # Plot values\n",
        "    plain_plt, = plt.plot(plain)\n",
        "    l1_plt, = plt.plot(l1)\n",
        "    l2_plt, = plt.plot(l2)\n",
        "    l1_l2_plt, = plt.plot(l1_l2)\n",
        "\n",
        "    # Set plot title\n",
        "    plt.title(f'Validation {metric}')\n",
        "\n",
        "    # Label axes\n",
        "    plt.xlabel('Epoch')\n",
        "    plt.ylabel(metric)\n",
        "\n",
        "    # Set legend\n",
        "    location = 'upper' if metric == 'Loss' else 'lower'\n",
        "    plt.legend(\n",
        "        (plain_plt, l1_plt, l2_plt, l1_l2_plt),\n",
        "        ('Plain', 'L1', 'L2', 'L1 + L2'),\n",
        "        loc=f'{location} right',\n",
        "        shadow=True,\n",
        "        prop={'size': 20}\n",
        "    )\n",
        "\n",
        "    # Save plot\n",
        "    fig.savefig(f'{metric.lower()}_change.png')"
      ],
      "execution_count": 0,
      "outputs": []
    },
    {
      "cell_type": "markdown",
      "metadata": {
        "id": "OvkqQXw-2buM",
        "colab_type": "text"
      },
      "source": [
        "Plot changes in validation loss"
      ]
    },
    {
      "cell_type": "code",
      "metadata": {
        "id": "xfpsO9CV2bVp",
        "colab_type": "code",
        "colab": {
          "base_uri": "https://localhost:8080/",
          "height": 675
        },
        "outputId": "98696521-3700-4ea9-b406-42c087db996c"
      },
      "source": [
        "plot_metric(loss, l1_loss, l2_loss, l1_l2_loss, 'Loss')"
      ],
      "execution_count": 21,
      "outputs": [
        {
          "output_type": "display_data",
          "data": {
            "image/png": "[encoded data removed]",
            "text/plain": [
              "<Figure size 936x792 with 1 Axes>"
            ]
          },
          "metadata": {
            "tags": []
          }
        }
      ]
    },
    {
      "cell_type": "markdown",
      "metadata": {
        "id": "OSctNrPG2afY",
        "colab_type": "text"
      },
      "source": [
        "Plot changes in validation accuracy"
      ]
    },
    {
      "cell_type": "code",
      "metadata": {
        "id": "IflmdH8x2oNt",
        "colab_type": "code",
        "colab": {
          "base_uri": "https://localhost:8080/",
          "height": 675
        },
        "outputId": "42c9946a-850b-478a-a0c6-178379f90d42"
      },
      "source": [
        "plot_metric(accuracy, l1_accuracy, l2_accuracy, l1_l2_accuracy, 'Accuracy')"
      ],
      "execution_count": 22,
      "outputs": [
        {
          "output_type": "display_data",
          "data": {
            "image/png": "[encoded data removed]",
            "text/plain": [
              "<Figure size 936x792 with 1 Axes>"
            ]
          },
          "metadata": {
            "tags": []
          }
        }
      ]
    },
    {
      "cell_type": "markdown",
      "metadata": {
        "id": "frMHF1KQt0Ff",
        "colab_type": "text"
      },
      "source": [
        "## Display Results\n",
        "\n",
        "Display 25 misclassified images for the following trained models:\n",
        "1. Without L1 and L2 regularization\n",
        "2. With L1 regularization\n",
        "3. With L2 regularization\n",
        "4. With L1 and L2 regularization"
      ]
    },
    {
      "cell_type": "code",
      "metadata": {
        "id": "-NXcw_YvVk0J",
        "colab_type": "code",
        "colab": {}
      },
      "source": [
        "def save_and_show_result(data, metric):\n",
        "    processed_data = []\n",
        "\n",
        "    # Initialize plot\n",
        "    row_count = -1\n",
        "    fig, axs = plt.subplots(5, 5, figsize=(10, 10))\n",
        "    fig.tight_layout()\n",
        "\n",
        "    for idx, result in enumerate(data):\n",
        "\n",
        "        # If 25 samples have been stored, break out of loop\n",
        "        if idx > 24:\n",
        "            break\n",
        "        \n",
        "        label = result['label'].item()\n",
        "        prediction = result['prediction'].item()\n",
        "        image_name = f'{metric}/original/{metric}_{idx + 1}.png'\n",
        "        save_image(result['image'], image_name)\n",
        "        processed_data.append((image_name, label, prediction))\n",
        "\n",
        "        # Plot image\n",
        "        if idx % 5 == 0:\n",
        "            row_count += 1\n",
        "        axs[row_count][idx % 5].axis('off')\n",
        "        axs[row_count][idx % 5].set_title(f'Label: {label}\\nPrediction: {prediction}')\n",
        "        axs[row_count][idx % 5].imshow(result['image'][0], cmap='gray_r')\n",
        "\n",
        "        # Save each image in labelled format\n",
        "        extent = axs[row_count][idx % 5].get_window_extent().transformed(fig.dpi_scale_trans.inverted())\n",
        "        fig.savefig(f'{metric}/labelled/{metric}_{idx + 1}.png', bbox_inches=extent.expanded(1.1, 1.5))\n",
        "    \n",
        "    # Save image\n",
        "    fig.savefig(f'{metric}/{metric}_incorrect_predictions.png', bbox_inches='tight')\n",
        "\n",
        "    # Save data\n",
        "    df = pd.DataFrame(processed_data, columns=['Image', 'Label', 'Prediciton'])\n",
        "    df.to_csv(f'{metric}/{metric}_incorrect_predictions.csv')"
      ],
      "execution_count": 0,
      "outputs": []
    },
    {
      "cell_type": "markdown",
      "metadata": {
        "id": "b_Nxwf2wMpPX",
        "colab_type": "text"
      },
      "source": [
        "### Without L1 and L2 Regularization"
      ]
    },
    {
      "cell_type": "code",
      "metadata": {
        "id": "zJPyqO4gG7pZ",
        "colab_type": "code",
        "colab": {
          "base_uri": "https://localhost:8080/",
          "height": 1000
        },
        "outputId": "ca23f78a-3978-458b-e428-d89e8252cf44"
      },
      "source": [
        "# Making directories\n",
        "!mkdir plain\n",
        "!mkdir plain/original\n",
        "!mkdir plain/labelled\n",
        "\n",
        "save_and_show_result(incorrect_pred, 'plain')\n",
        "\n",
        "# For downloading the results\n",
        "!zip -r plain.zip plain"
      ],
      "execution_count": 59,
      "outputs": [
        {
          "output_type": "stream",
          "text": [
            "  adding: plain/ (stored 0%)\n",
            "  adding: plain/plain_incorrect_predictions.png (deflated 16%)\n",
            "  adding: plain/plain_incorrect_predictions.csv (deflated 75%)\n",
            "  adding: plain/original/ (stored 0%)\n",
            "  adding: plain/original/plain_5.png (stored 0%)\n",
            "  adding: plain/original/plain_21.png (stored 0%)\n",
            "  adding: plain/original/plain_14.png (stored 0%)\n",
            "  adding: plain/original/plain_24.png (stored 0%)\n",
            "  adding: plain/original/plain_7.png (stored 0%)\n",
            "  adding: plain/original/plain_23.png (stored 0%)\n",
            "  adding: plain/original/plain_1.png (stored 0%)\n",
            "  adding: plain/original/plain_6.png (stored 0%)\n",
            "  adding: plain/original/plain_20.png (stored 0%)\n",
            "  adding: plain/original/plain_3.png (stored 0%)\n",
            "  adding: plain/original/plain_9.png (stored 0%)\n",
            "  adding: plain/original/plain_18.png (stored 0%)\n",
            "  adding: plain/original/plain_4.png (stored 0%)\n",
            "  adding: plain/original/plain_8.png (stored 0%)\n",
            "  adding: plain/original/plain_15.png (stored 0%)\n",
            "  adding: plain/original/plain_13.png (stored 0%)\n",
            "  adding: plain/original/plain_2.png (stored 0%)\n",
            "  adding: plain/original/plain_19.png (stored 0%)\n",
            "  adding: plain/original/plain_25.png (stored 0%)\n",
            "  adding: plain/original/plain_11.png (stored 0%)\n",
            "  adding: plain/original/plain_12.png (stored 0%)\n",
            "  adding: plain/original/plain_16.png (stored 0%)\n",
            "  adding: plain/original/plain_17.png (stored 0%)\n",
            "  adding: plain/original/plain_10.png (stored 0%)\n",
            "  adding: plain/original/plain_22.png (stored 0%)\n",
            "  adding: plain/labelled/ (stored 0%)\n",
            "  adding: plain/labelled/plain_5.png (deflated 8%)\n",
            "  adding: plain/labelled/plain_21.png (deflated 8%)\n",
            "  adding: plain/labelled/plain_14.png (deflated 7%)\n",
            "  adding: plain/labelled/plain_24.png (deflated 7%)\n",
            "  adding: plain/labelled/plain_7.png (deflated 8%)\n",
            "  adding: plain/labelled/plain_23.png (deflated 8%)\n",
            "  adding: plain/labelled/plain_1.png (deflated 8%)\n",
            "  adding: plain/labelled/plain_6.png (deflated 8%)\n",
            "  adding: plain/labelled/plain_20.png (deflated 8%)\n",
            "  adding: plain/labelled/plain_3.png (deflated 8%)\n",
            "  adding: plain/labelled/plain_9.png (deflated 9%)\n",
            "  adding: plain/labelled/plain_18.png (deflated 8%)\n",
            "  adding: plain/labelled/plain_4.png (deflated 9%)\n",
            "  adding: plain/labelled/plain_8.png (deflated 7%)\n",
            "  adding: plain/labelled/plain_15.png (deflated 7%)\n",
            "  adding: plain/labelled/plain_13.png (deflated 9%)\n",
            "  adding: plain/labelled/plain_2.png (deflated 9%)\n",
            "  adding: plain/labelled/plain_19.png (deflated 7%)\n",
            "  adding: plain/labelled/plain_25.png (deflated 7%)\n",
            "  adding: plain/labelled/plain_11.png (deflated 9%)\n",
            "  adding: plain/labelled/plain_12.png (deflated 9%)\n",
            "  adding: plain/labelled/plain_16.png (deflated 7%)\n",
            "  adding: plain/labelled/plain_17.png (deflated 9%)\n",
            "  adding: plain/labelled/plain_10.png (deflated 8%)\n",
            "  adding: plain/labelled/plain_22.png (deflated 8%)\n"
          ],
          "name": "stdout"
        },
        {
          "output_type": "display_data",
          "data": {
            "image/png": "[encoded data removed]",
            "text/plain": [
              "<Figure size 720x720 with 25 Axes>"
            ]
          },
          "metadata": {
            "tags": []
          }
        }
      ]
    },
    {
      "cell_type": "markdown",
      "metadata": {
        "id": "9NJXL822Mqw9",
        "colab_type": "text"
      },
      "source": [
        "### With L1 Regularization"
      ]
    },
    {
      "cell_type": "code",
      "metadata": {
        "id": "yBTSiToQNKDw",
        "colab_type": "code",
        "colab": {
          "base_uri": "https://localhost:8080/",
          "height": 1000
        },
        "outputId": "061d1601-8cdc-49b9-bc47-6ffe79768c13"
      },
      "source": [
        "# Making directories\n",
        "!mkdir l1\n",
        "!mkdir l1/original\n",
        "!mkdir l1/labelled\n",
        "\n",
        "save_and_show_result(incorrect_pred_l1, 'l1')\n",
        "\n",
        "# For downloading the results\n",
        "!zip -r l1.zip l1"
      ],
      "execution_count": 60,
      "outputs": [
        {
          "output_type": "stream",
          "text": [
            "  adding: l1/ (stored 0%)\n",
            "  adding: l1/l1_incorrect_predictions.png (deflated 15%)\n",
            "  adding: l1/original/ (stored 0%)\n",
            "  adding: l1/original/l1_23.png (stored 0%)\n",
            "  adding: l1/original/l1_2.png (stored 0%)\n",
            "  adding: l1/original/l1_5.png (stored 0%)\n",
            "  adding: l1/original/l1_12.png (stored 0%)\n",
            "  adding: l1/original/l1_22.png (stored 0%)\n",
            "  adding: l1/original/l1_15.png (stored 0%)\n",
            "  adding: l1/original/l1_21.png (stored 0%)\n",
            "  adding: l1/original/l1_16.png (stored 0%)\n",
            "  adding: l1/original/l1_8.png (stored 0%)\n",
            "  adding: l1/original/l1_3.png (stored 0%)\n",
            "  adding: l1/original/l1_25.png (stored 0%)\n",
            "  adding: l1/original/l1_1.png (stored 0%)\n",
            "  adding: l1/original/l1_13.png (stored 0%)\n",
            "  adding: l1/original/l1_6.png (stored 0%)\n",
            "  adding: l1/original/l1_17.png (stored 0%)\n",
            "  adding: l1/original/l1_4.png (stored 0%)\n",
            "  adding: l1/original/l1_10.png (stored 0%)\n",
            "  adding: l1/original/l1_24.png (stored 0%)\n",
            "  adding: l1/original/l1_11.png (stored 0%)\n",
            "  adding: l1/original/l1_9.png (stored 0%)\n",
            "  adding: l1/original/l1_19.png (stored 0%)\n",
            "  adding: l1/original/l1_7.png (stored 0%)\n",
            "  adding: l1/original/l1_14.png (stored 0%)\n",
            "  adding: l1/original/l1_20.png (stored 0%)\n",
            "  adding: l1/original/l1_18.png (stored 0%)\n",
            "  adding: l1/labelled/ (stored 0%)\n",
            "  adding: l1/labelled/l1_23.png (deflated 9%)\n",
            "  adding: l1/labelled/l1_2.png (deflated 8%)\n",
            "  adding: l1/labelled/l1_5.png (deflated 10%)\n",
            "  adding: l1/labelled/l1_12.png (deflated 8%)\n",
            "  adding: l1/labelled/l1_22.png (deflated 8%)\n",
            "  adding: l1/labelled/l1_15.png (deflated 8%)\n",
            "  adding: l1/labelled/l1_21.png (deflated 7%)\n",
            "  adding: l1/labelled/l1_16.png (deflated 8%)\n",
            "  adding: l1/labelled/l1_8.png (deflated 8%)\n",
            "  adding: l1/labelled/l1_3.png (deflated 8%)\n",
            "  adding: l1/labelled/l1_25.png (deflated 8%)\n",
            "  adding: l1/labelled/l1_1.png (deflated 7%)\n",
            "  adding: l1/labelled/l1_13.png (deflated 8%)\n",
            "  adding: l1/labelled/l1_6.png (deflated 7%)\n",
            "  adding: l1/labelled/l1_17.png (deflated 8%)\n",
            "  adding: l1/labelled/l1_4.png (deflated 8%)\n",
            "  adding: l1/labelled/l1_10.png (deflated 8%)\n",
            "  adding: l1/labelled/l1_24.png (deflated 8%)\n",
            "  adding: l1/labelled/l1_11.png (deflated 9%)\n",
            "  adding: l1/labelled/l1_9.png (deflated 8%)\n",
            "  adding: l1/labelled/l1_19.png (deflated 8%)\n",
            "  adding: l1/labelled/l1_7.png (deflated 8%)\n",
            "  adding: l1/labelled/l1_14.png (deflated 7%)\n",
            "  adding: l1/labelled/l1_20.png (deflated 8%)\n",
            "  adding: l1/labelled/l1_18.png (deflated 8%)\n",
            "  adding: l1/l1_incorrect_predictions.csv (deflated 71%)\n"
          ],
          "name": "stdout"
        },
        {
          "output_type": "display_data",
          "data": {
            "image/png": "[encoded data removed]",
            "text/plain": [
              "<Figure size 720x720 with 25 Axes>"
            ]
          },
          "metadata": {
            "tags": []
          }
        }
      ]
    },
    {
      "cell_type": "markdown",
      "metadata": {
        "id": "gyr3wlwhNnuG",
        "colab_type": "text"
      },
      "source": [
        "### With L2 Regularization"
      ]
    },
    {
      "cell_type": "code",
      "metadata": {
        "id": "GPzjW4d8NfvA",
        "colab_type": "code",
        "colab": {
          "base_uri": "https://localhost:8080/",
          "height": 1000
        },
        "outputId": "e10352f9-6fc4-49af-81c1-facbf7bbb93c"
      },
      "source": [
        "# Making directories\n",
        "!mkdir l2\n",
        "!mkdir l2/original\n",
        "!mkdir l2/labelled\n",
        "\n",
        "save_and_show_result(incorrect_pred_l2, 'l2')\n",
        "\n",
        "# For downloading the results\n",
        "!zip -r l2.zip l2"
      ],
      "execution_count": 61,
      "outputs": [
        {
          "output_type": "stream",
          "text": [
            "  adding: l2/ (stored 0%)\n",
            "  adding: l2/original/ (stored 0%)\n",
            "  adding: l2/original/l2_2.png (stored 0%)\n",
            "  adding: l2/original/l2_10.png (stored 0%)\n",
            "  adding: l2/original/l2_7.png (stored 0%)\n",
            "  adding: l2/original/l2_4.png (stored 0%)\n",
            "  adding: l2/original/l2_9.png (stored 0%)\n",
            "  adding: l2/original/l2_11.png (stored 0%)\n",
            "  adding: l2/original/l2_19.png (stored 0%)\n",
            "  adding: l2/original/l2_1.png (stored 0%)\n",
            "  adding: l2/original/l2_18.png (stored 0%)\n",
            "  adding: l2/original/l2_13.png (stored 0%)\n",
            "  adding: l2/original/l2_15.png (stored 0%)\n",
            "  adding: l2/original/l2_3.png (stored 0%)\n",
            "  adding: l2/original/l2_20.png (stored 0%)\n",
            "  adding: l2/original/l2_16.png (stored 0%)\n",
            "  adding: l2/original/l2_8.png (stored 0%)\n",
            "  adding: l2/original/l2_17.png (stored 0%)\n",
            "  adding: l2/original/l2_21.png (stored 0%)\n",
            "  adding: l2/original/l2_22.png (stored 0%)\n",
            "  adding: l2/original/l2_12.png (stored 0%)\n",
            "  adding: l2/original/l2_23.png (stored 0%)\n",
            "  adding: l2/original/l2_24.png (stored 0%)\n",
            "  adding: l2/original/l2_5.png (stored 0%)\n",
            "  adding: l2/original/l2_25.png (stored 0%)\n",
            "  adding: l2/original/l2_6.png (stored 0%)\n",
            "  adding: l2/original/l2_14.png (stored 0%)\n",
            "  adding: l2/labelled/ (stored 0%)\n",
            "  adding: l2/labelled/l2_2.png (deflated 9%)\n",
            "  adding: l2/labelled/l2_10.png (deflated 9%)\n",
            "  adding: l2/labelled/l2_7.png (deflated 11%)\n",
            "  adding: l2/labelled/l2_4.png (deflated 8%)\n",
            "  adding: l2/labelled/l2_9.png (deflated 7%)\n",
            "  adding: l2/labelled/l2_11.png (deflated 8%)\n",
            "  adding: l2/labelled/l2_19.png (deflated 7%)\n",
            "  adding: l2/labelled/l2_1.png (deflated 7%)\n",
            "  adding: l2/labelled/l2_18.png (deflated 8%)\n",
            "  adding: l2/labelled/l2_13.png (deflated 7%)\n",
            "  adding: l2/labelled/l2_15.png (deflated 8%)\n",
            "  adding: l2/labelled/l2_3.png (deflated 9%)\n",
            "  adding: l2/labelled/l2_20.png (deflated 8%)\n",
            "  adding: l2/labelled/l2_16.png (deflated 8%)\n",
            "  adding: l2/labelled/l2_8.png (deflated 8%)\n",
            "  adding: l2/labelled/l2_17.png (deflated 7%)\n",
            "  adding: l2/labelled/l2_21.png (deflated 7%)\n",
            "  adding: l2/labelled/l2_22.png (deflated 7%)\n",
            "  adding: l2/labelled/l2_12.png (deflated 8%)\n",
            "  adding: l2/labelled/l2_23.png (deflated 8%)\n",
            "  adding: l2/labelled/l2_24.png (deflated 9%)\n",
            "  adding: l2/labelled/l2_5.png (deflated 8%)\n",
            "  adding: l2/labelled/l2_25.png (deflated 7%)\n",
            "  adding: l2/labelled/l2_6.png (deflated 8%)\n",
            "  adding: l2/labelled/l2_14.png (deflated 8%)\n",
            "  adding: l2/l2_incorrect_predictions.csv (deflated 71%)\n",
            "  adding: l2/l2_incorrect_predictions.png (deflated 15%)\n"
          ],
          "name": "stdout"
        },
        {
          "output_type": "display_data",
          "data": {
            "image/png": "[encoded data removed]",
            "text/plain": [
              "<Figure size 720x720 with 25 Axes>"
            ]
          },
          "metadata": {
            "tags": []
          }
        }
      ]
    },
    {
      "cell_type": "markdown",
      "metadata": {
        "id": "ETF2iiPsNspr",
        "colab_type": "text"
      },
      "source": [
        "### With L1 and L2 Regularization"
      ]
    },
    {
      "cell_type": "code",
      "metadata": {
        "id": "b7UhEWl7NinN",
        "colab_type": "code",
        "colab": {
          "base_uri": "https://localhost:8080/",
          "height": 1000
        },
        "outputId": "454d177f-71d6-415f-c9d4-dbe44794a62d"
      },
      "source": [
        "# Making directories\n",
        "!mkdir l1_l2\n",
        "!mkdir l1_l2/original\n",
        "!mkdir l1_l2/labelled\n",
        "\n",
        "save_and_show_result(incorrect_pred_l1_l2, 'l1_l2')\n",
        "\n",
        "# For downloading the results\n",
        "!zip -r l1_l2.zip l1_l2"
      ],
      "execution_count": 62,
      "outputs": [
        {
          "output_type": "stream",
          "text": [
            "  adding: l1_l2/ (stored 0%)\n",
            "  adding: l1_l2/original/ (stored 0%)\n",
            "  adding: l1_l2/original/l1_l2_3.png (deflated 0%)\n",
            "  adding: l1_l2/original/l1_l2_20.png (stored 0%)\n",
            "  adding: l1_l2/original/l1_l2_8.png (stored 0%)\n",
            "  adding: l1_l2/original/l1_l2_14.png (stored 0%)\n",
            "  adding: l1_l2/original/l1_l2_7.png (stored 0%)\n",
            "  adding: l1_l2/original/l1_l2_9.png (stored 0%)\n",
            "  adding: l1_l2/original/l1_l2_22.png (stored 0%)\n",
            "  adding: l1_l2/original/l1_l2_17.png (stored 0%)\n",
            "  adding: l1_l2/original/l1_l2_2.png (stored 0%)\n",
            "  adding: l1_l2/original/l1_l2_15.png (stored 0%)\n",
            "  adding: l1_l2/original/l1_l2_19.png (stored 0%)\n",
            "  adding: l1_l2/original/l1_l2_13.png (stored 0%)\n",
            "  adding: l1_l2/original/l1_l2_4.png (stored 0%)\n",
            "  adding: l1_l2/original/l1_l2_1.png (stored 0%)\n",
            "  adding: l1_l2/original/l1_l2_21.png (stored 0%)\n",
            "  adding: l1_l2/original/l1_l2_6.png (stored 0%)\n",
            "  adding: l1_l2/original/l1_l2_16.png (stored 0%)\n",
            "  adding: l1_l2/original/l1_l2_18.png (stored 0%)\n",
            "  adding: l1_l2/original/l1_l2_25.png (stored 0%)\n",
            "  adding: l1_l2/original/l1_l2_12.png (stored 0%)\n",
            "  adding: l1_l2/original/l1_l2_23.png (stored 0%)\n",
            "  adding: l1_l2/original/l1_l2_11.png (stored 0%)\n",
            "  adding: l1_l2/original/l1_l2_10.png (stored 0%)\n",
            "  adding: l1_l2/original/l1_l2_5.png (stored 0%)\n",
            "  adding: l1_l2/original/l1_l2_24.png (stored 0%)\n",
            "  adding: l1_l2/labelled/ (stored 0%)\n",
            "  adding: l1_l2/labelled/l1_l2_3.png (deflated 7%)\n",
            "  adding: l1_l2/labelled/l1_l2_20.png (deflated 8%)\n",
            "  adding: l1_l2/labelled/l1_l2_8.png (deflated 8%)\n",
            "  adding: l1_l2/labelled/l1_l2_14.png (deflated 9%)\n",
            "  adding: l1_l2/labelled/l1_l2_7.png (deflated 8%)\n",
            "  adding: l1_l2/labelled/l1_l2_9.png (deflated 8%)\n",
            "  adding: l1_l2/labelled/l1_l2_22.png (deflated 8%)\n",
            "  adding: l1_l2/labelled/l1_l2_17.png (deflated 8%)\n",
            "  adding: l1_l2/labelled/l1_l2_2.png (deflated 8%)\n",
            "  adding: l1_l2/labelled/l1_l2_15.png (deflated 9%)\n",
            "  adding: l1_l2/labelled/l1_l2_19.png (deflated 8%)\n",
            "  adding: l1_l2/labelled/l1_l2_13.png (deflated 9%)\n",
            "  adding: l1_l2/labelled/l1_l2_4.png (deflated 11%)\n",
            "  adding: l1_l2/labelled/l1_l2_1.png (deflated 8%)\n",
            "  adding: l1_l2/labelled/l1_l2_21.png (deflated 8%)\n",
            "  adding: l1_l2/labelled/l1_l2_6.png (deflated 8%)\n",
            "  adding: l1_l2/labelled/l1_l2_16.png (deflated 8%)\n",
            "  adding: l1_l2/labelled/l1_l2_18.png (deflated 8%)\n",
            "  adding: l1_l2/labelled/l1_l2_25.png (deflated 8%)\n",
            "  adding: l1_l2/labelled/l1_l2_12.png (deflated 8%)\n",
            "  adding: l1_l2/labelled/l1_l2_23.png (deflated 7%)\n",
            "  adding: l1_l2/labelled/l1_l2_11.png (deflated 7%)\n",
            "  adding: l1_l2/labelled/l1_l2_10.png (deflated 7%)\n",
            "  adding: l1_l2/labelled/l1_l2_5.png (deflated 8%)\n",
            "  adding: l1_l2/labelled/l1_l2_24.png (deflated 8%)\n",
            "  adding: l1_l2/l1_l2_incorrect_predictions.csv (deflated 75%)\n",
            "  adding: l1_l2/l1_l2_incorrect_predictions.png (deflated 15%)\n"
          ],
          "name": "stdout"
        },
        {
          "output_type": "display_data",
          "data": {
            "image/png": "[encoded data removed]",
            "text/plain": [
              "<Figure size 720x720 with 25 Axes>"
            ]
          },
          "metadata": {
            "tags": []
          }
        }
      ]
    },
    {
      "cell_type": "code",
      "metadata": {
        "id": "gplzWSUSoSbQ",
        "colab_type": "code",
        "colab": {}
      },
      "source": [
        ""
      ],
      "execution_count": 0,
      "outputs": []
    }
  ]
}