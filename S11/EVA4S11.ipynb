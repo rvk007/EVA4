{
  "nbformat": 4,
  "nbformat_minor": 0,
  "metadata": {
    "kernelspec": {
      "name": "python3",
      "display_name": "Python 3"
    },
    "language_info": {
      "codemirror_mode": {
        "name": "ipython",
        "version": 3
      },
      "file_extension": ".py",
      "mimetype": "text/x-python",
      "name": "python",
      "nbconvert_exporter": "python",
      "pygments_lexer": "ipython3",
      "version": "3.6.6"
    },
    "colab": {
      "name": "EVA4S11.ipynb",
      "provenance": [],
      "collapsed_sections": [],
      "toc_visible": true
    },
    "accelerator": "GPU"
  },
  "cells": [
    {
      "cell_type": "markdown",
      "metadata": {
        "id": "QxWwB9Po6i5u",
        "colab_type": "text"
      },
      "source": [
        "# Installing Packages"
      ]
    },
    {
      "cell_type": "code",
      "metadata": {
        "colab_type": "code",
        "id": "JAM56MKzD2dq",
        "colab": {}
      },
      "source": [
        "!pip install --no-cache-dir -r requirements.txt"
      ],
      "execution_count": 0,
      "outputs": []
    },
    {
      "cell_type": "markdown",
      "metadata": {
        "id": "aO-7t1Y7-hV4",
        "colab_type": "text"
      },
      "source": [
        "# Imports\n",
        "Importing necessary packages and modules"
      ]
    },
    {
      "cell_type": "code",
      "metadata": {
        "id": "-yVpodAMpoCi",
        "colab_type": "code",
        "colab": {}
      },
      "source": [
        "%matplotlib inline\n",
        "\n",
        "from tensornet.data import CIFAR10\n",
        "from tensornet.model import ResidualModel\n",
        "from tensornet.model.utils.loss import cross_entropy_loss\n",
        "from tensornet.model.utils.optimizers import sgd\n",
        "from tensornet.engine import LRFinder\n",
        "from tensornet.engine.ops.lr_scheduler import OneCycleLR\n",
        "from tensornet.utils import initialize_cuda, plot_metric\n",
        "from tensornet.utils.clr import CyclicLR"
      ],
      "execution_count": 0,
      "outputs": []
    },
    {
      "cell_type": "markdown",
      "metadata": {
        "id": "Ve_XDp27GSN_",
        "colab_type": "text"
      },
      "source": [
        "## Set Seed and Get GPU Availability"
      ]
    },
    {
      "cell_type": "code",
      "metadata": {
        "id": "CxVy79mmfQ1e",
        "colab_type": "code",
        "outputId": "d9f2b640-c652-4e13-83bd-c6572b138997",
        "colab": {
          "base_uri": "https://localhost:8080/",
          "height": 34
        }
      },
      "source": [
        "# Initialize CUDA and set random seed\n",
        "cuda, device = initialize_cuda(1)"
      ],
      "execution_count": 3,
      "outputs": [
        {
          "output_type": "stream",
          "text": [
            "GPU Available? True\n"
          ],
          "name": "stdout"
        }
      ]
    },
    {
      "cell_type": "markdown",
      "metadata": {
        "id": "cKi2t8X-CKJ5",
        "colab_type": "text"
      },
      "source": [
        "## Download Dataset\n",
        "\n",
        "Importing the CIFAR-10 class to download dataset and create data loader"
      ]
    },
    {
      "cell_type": "code",
      "metadata": {
        "id": "QZjDtZVLGXh-",
        "colab_type": "code",
        "outputId": "193da377-30f4-4164-9b44-a8b5e33b5d45",
        "colab": {
          "base_uri": "https://localhost:8080/",
          "height": 70
        }
      },
      "source": [
        "dataset = CIFAR10(\n",
        "    train_batch_size=512,\n",
        "    val_batch_size=512,\n",
        "    cuda=cuda,\n",
        "    num_workers=16,\n",
        "    padding=(40, 40),\n",
        "    crop=(32, 32),\n",
        "    horizontal_flip_prob=0.2,\n",
        "    cutout_prob=0.1,\n",
        "    cutout_dim=(8, 8),\n",
        ")"
      ],
      "execution_count": 4,
      "outputs": [
        {
          "output_type": "stream",
          "text": [
            "Files already downloaded and verified\n",
            "Files already downloaded and verified\n",
            "Files already downloaded and verified\n"
          ],
          "name": "stdout"
        }
      ]
    },
    {
      "cell_type": "markdown",
      "metadata": {
        "id": "qFcWRAeY_MsB",
        "colab_type": "text"
      },
      "source": [
        "## Training and Validation Dataloaders\n",
        "This is the final step in data preparation. It sets the dataloader arguments and then creates the dataloader"
      ]
    },
    {
      "cell_type": "code",
      "metadata": {
        "id": "D8Tjigo2poCl",
        "colab_type": "code",
        "colab": {}
      },
      "source": [
        "# Create train data loader\n",
        "train_loader = dataset.loader(train=True)\n",
        "\n",
        "# Create val data loader\n",
        "val_loader = dataset.loader(train=False)"
      ],
      "execution_count": 0,
      "outputs": []
    },
    {
      "cell_type": "markdown",
      "metadata": {
        "id": "HSeDIqBq-6pC",
        "colab_type": "text"
      },
      "source": [
        "# Model Architecture and Summary"
      ]
    },
    {
      "cell_type": "code",
      "metadata": {
        "id": "vMmcgGBIguNc",
        "colab_type": "code",
        "outputId": "718fbee8-5012-40a1-bd96-cb5cd98aa56c",
        "colab": {
          "base_uri": "https://localhost:8080/",
          "height": 781
        }
      },
      "source": [
        "model = ResidualModel().to(device)  # Create model\n",
        "model.summary(dataset.image_size)  # Display model summary"
      ],
      "execution_count": 6,
      "outputs": [
        {
          "output_type": "stream",
          "text": [
            "----------------------------------------------------------------\n",
            "        Layer (type)               Output Shape         Param #\n",
            "================================================================\n",
            "            Conv2d-1           [-1, 64, 32, 32]           1,728\n",
            "       BatchNorm2d-2           [-1, 64, 32, 32]             128\n",
            "              ReLU-3           [-1, 64, 32, 32]               0\n",
            "            Conv2d-4          [-1, 128, 32, 32]          73,728\n",
            "         MaxPool2d-5          [-1, 128, 16, 16]               0\n",
            "       BatchNorm2d-6          [-1, 128, 16, 16]             256\n",
            "              ReLU-7          [-1, 128, 16, 16]               0\n",
            "            Conv2d-8          [-1, 128, 16, 16]         147,456\n",
            "       BatchNorm2d-9          [-1, 128, 16, 16]             256\n",
            "           Conv2d-10          [-1, 128, 16, 16]         147,456\n",
            "      BatchNorm2d-11          [-1, 128, 16, 16]             256\n",
            "       BasicBlock-12          [-1, 128, 16, 16]               0\n",
            "    ResidualBlock-13          [-1, 128, 16, 16]               0\n",
            "           Conv2d-14          [-1, 256, 16, 16]         294,912\n",
            "        MaxPool2d-15            [-1, 256, 8, 8]               0\n",
            "      BatchNorm2d-16            [-1, 256, 8, 8]             512\n",
            "             ReLU-17            [-1, 256, 8, 8]               0\n",
            "    ResidualBlock-18            [-1, 256, 8, 8]               0\n",
            "           Conv2d-19            [-1, 512, 8, 8]       1,179,648\n",
            "        MaxPool2d-20            [-1, 512, 4, 4]               0\n",
            "      BatchNorm2d-21            [-1, 512, 4, 4]           1,024\n",
            "             ReLU-22            [-1, 512, 4, 4]               0\n",
            "           Conv2d-23            [-1, 512, 4, 4]       2,359,296\n",
            "      BatchNorm2d-24            [-1, 512, 4, 4]           1,024\n",
            "           Conv2d-25            [-1, 512, 4, 4]       2,359,296\n",
            "      BatchNorm2d-26            [-1, 512, 4, 4]           1,024\n",
            "       BasicBlock-27            [-1, 512, 4, 4]               0\n",
            "    ResidualBlock-28            [-1, 512, 4, 4]               0\n",
            "        MaxPool2d-29            [-1, 512, 1, 1]               0\n",
            "           Linear-30                   [-1, 10]           5,130\n",
            "================================================================\n",
            "Total params: 6,573,130\n",
            "Trainable params: 6,573,130\n",
            "Non-trainable params: 0\n",
            "----------------------------------------------------------------\n",
            "Input size (MB): 0.01\n",
            "Forward/backward pass size (MB): 6.57\n",
            "Params size (MB): 25.07\n",
            "Estimated Total Size (MB): 31.65\n",
            "----------------------------------------------------------------\n"
          ],
          "name": "stdout"
        }
      ]
    },
    {
      "cell_type": "markdown",
      "metadata": {
        "id": "pgYxmozxoZFq",
        "colab_type": "text"
      },
      "source": [
        "# LR Range Test"
      ]
    },
    {
      "cell_type": "code",
      "metadata": {
        "id": "X_i8e0e2WB4f",
        "colab_type": "code",
        "outputId": "ebbadeaa-0845-4580-a241-9367c9ec2f34",
        "colab": {
          "base_uri": "https://localhost:8080/",
          "height": 70
        }
      },
      "source": [
        "start_lr = 1e-6\n",
        "end_lr = 0.02\n",
        "num_iterations = 10 * len(train_loader)  # 10 epochs\n",
        "\n",
        "# Create optimizer and loss function\n",
        "optimizer = sgd(model, learning_rate=start_lr, momentum=0.9, l2_factor=0.01)\n",
        "criterion = cross_entropy_loss()\n",
        "\n",
        "# LR Range Test\n",
        "lr_finder = LRFinder(model, optimizer, criterion, metric='accuracy', device=device)\n",
        "lr_finder.range_test(\n",
        "    train_loader, num_iterations, mode='iteration',\n",
        "    end_lr=end_lr, step_mode='linear', diverge_th=0\n",
        ")"
      ],
      "execution_count": 8,
      "outputs": [
        {
          "output_type": "stream",
          "text": [
            "Iterations\n",
            "980/980 [========] - 240s 245ms/step - lr: 0.0101 - Accuracy: 56.3232\n",
            "Learning rate search finished.\n"
          ],
          "name": "stdout"
        }
      ]
    },
    {
      "cell_type": "code",
      "metadata": {
        "id": "JSS6U_JZnmQg",
        "colab_type": "code",
        "colab": {
          "base_uri": "https://localhost:8080/",
          "height": 318
        },
        "outputId": "fca51960-a469-45ff-8f86-f2a6ccd65351"
      },
      "source": [
        "# Get best initial learning rate\n",
        "initial_lr = lr_finder.best_lr\n",
        "\n",
        "print('Learning Rate:', initial_lr)\n",
        "print('Accuracy:', lr_finder.best_metric)\n",
        "\n",
        "# Plot learning rate vs accuracy\n",
        "lr_finder.plot()\n",
        "\n",
        "# Reset graph\n",
        "lr_finder.reset()"
      ],
      "execution_count": 9,
      "outputs": [
        {
          "output_type": "stream",
          "text": [
            "Learning Rate: 0.02002040714285714\n",
            "Metric: 0.71405\n"
          ],
          "name": "stdout"
        },
        {
          "output_type": "display_data",
          "data": {
            "image/png": "[encoded data removed]",
            "text/plain": [
              "<Figure size 432x288 with 1 Axes>"
            ]
          },
          "metadata": {
            "tags": [],
            "needs_background": "light"
          }
        }
      ]
    },
    {
      "cell_type": "markdown",
      "metadata": {
        "id": "HcyKrcQEGcdp",
        "colab_type": "text"
      },
      "source": [
        "# Model Training and Validation"
      ]
    },
    {
      "cell_type": "code",
      "metadata": {
        "id": "Pk83iZb2uaEA",
        "colab_type": "code",
        "outputId": "f225dd50-c4ff-413b-a2b4-196707e52a55",
        "colab": {
          "base_uri": "https://localhost:8080/",
          "height": 1000
        }
      },
      "source": [
        "epochs = 24\n",
        "\n",
        "# Define one cycle policy\n",
        "one_cycle_policy = OneCycleLR(\n",
        "    optimizer, initial_lr, epochs=epochs,\n",
        "    steps_per_epoch=len(train_loader), pct_start=5/epochs,\n",
        "    div_factor=10, final_div_factor=1\n",
        ")\n",
        "\n",
        "# Train model\n",
        "model.fit(\n",
        "    train_loader, optimizer, criterion, device=device, epochs=epochs,\n",
        "    val_loader=val_loader, callbacks=[one_cycle_policy]\n",
        ")"
      ],
      "execution_count": 12,
      "outputs": [
        {
          "output_type": "stream",
          "text": [
            "Epoch 1:\n",
            "98/98 [========] - 24s 246ms/step - loss: 1.8651 - accuracy: 30.6704\n",
            "Validation set: Average loss: 0.0024, Accuracy: 57.36%\n",
            "\n",
            "Epoch 2:\n",
            "98/98 [========] - 24s 247ms/step - loss: 1.1717 - accuracy: 46.1496\n",
            "Validation set: Average loss: 0.0019, Accuracy: 66.88%\n",
            "\n",
            "Epoch 3:\n",
            "98/98 [========] - 24s 247ms/step - loss: 0.9898 - accuracy: 52.9654\n",
            "Validation set: Average loss: 0.0023, Accuracy: 64.89%\n",
            "\n",
            "Epoch 4:\n",
            "98/98 [========] - 24s 247ms/step - loss: 0.7610 - accuracy: 58.0047\n",
            "Validation set: Average loss: 0.0016, Accuracy: 73.38%\n",
            "\n",
            "Epoch 5:\n",
            "98/98 [========] - 24s 247ms/step - loss: 0.6404 - accuracy: 62.1273\n",
            "Validation set: Average loss: 0.0012, Accuracy: 78.92%\n",
            "\n",
            "Epoch 6:\n",
            "98/98 [========] - 24s 250ms/step - loss: 0.4953 - accuracy: 65.5024\n",
            "Validation set: Average loss: 0.0013, Accuracy: 79.57%\n",
            "\n",
            "Epoch 7:\n",
            "98/98 [========] - 24s 247ms/step - loss: 0.4355 - accuracy: 68.3767\n",
            "Validation set: Average loss: 0.0010, Accuracy: 83.09%\n",
            "\n",
            "Epoch 8:\n",
            "98/98 [========] - 24s 245ms/step - loss: 0.3859 - accuracy: 70.7052\n",
            "Validation set: Average loss: 0.0011, Accuracy: 81.82%\n",
            "\n",
            "Epoch 9:\n",
            "98/98 [========] - 24s 247ms/step - loss: 0.3422 - accuracy: 72.6984\n",
            "Validation set: Average loss: 0.0011, Accuracy: 81.80%\n",
            "\n",
            "Epoch 10:\n",
            "98/98 [========] - 24s 246ms/step - loss: 0.3196 - accuracy: 74.3906\n",
            "Validation set: Average loss: 0.0011, Accuracy: 81.74%\n",
            "\n",
            "Epoch 11:\n",
            "98/98 [========] - 24s 247ms/step - loss: 0.2914 - accuracy: 75.8474\n",
            "Validation set: Average loss: 0.0010, Accuracy: 82.52%\n",
            "\n",
            "Epoch 12:\n",
            "98/98 [========] - 24s 246ms/step - loss: 0.2760 - accuracy: 77.1183\n",
            "Validation set: Average loss: 0.0010, Accuracy: 83.24%\n",
            "\n",
            "Epoch 13:\n",
            "98/98 [========] - 24s 245ms/step - loss: 0.2507 - accuracy: 78.2450\n",
            "Validation set: Average loss: 0.0008, Accuracy: 86.48%\n",
            "\n",
            "Epoch 14:\n",
            "98/98 [========] - 24s 247ms/step - loss: 0.2324 - accuracy: 79.2799\n",
            "Validation set: Average loss: 0.0008, Accuracy: 86.83%\n",
            "\n",
            "Epoch 15:\n",
            "98/98 [========] - 24s 246ms/step - loss: 0.2124 - accuracy: 80.2184\n",
            "Validation set: Average loss: 0.0008, Accuracy: 87.60%\n",
            "\n",
            "Epoch 16:\n",
            "98/98 [========] - 24s 247ms/step - loss: 0.1967 - accuracy: 81.0889\n",
            "Validation set: Average loss: 0.0007, Accuracy: 88.35%\n",
            "\n",
            "Epoch 17:\n",
            "98/98 [========] - 24s 246ms/step - loss: 0.1856 - accuracy: 81.8753\n",
            "Validation set: Average loss: 0.0007, Accuracy: 87.50%\n",
            "\n",
            "Epoch 18:\n",
            "98/98 [========] - 24s 247ms/step - loss: 0.1677 - accuracy: 82.6132\n",
            "Validation set: Average loss: 0.0008, Accuracy: 86.55%\n",
            "\n",
            "Epoch 19:\n",
            "98/98 [========] - 24s 248ms/step - loss: 0.1451 - accuracy: 83.3044\n",
            "Validation set: Average loss: 0.0008, Accuracy: 87.52%\n",
            "\n",
            "Epoch 20:\n",
            "98/98 [========] - 24s 244ms/step - loss: 0.1334 - accuracy: 83.9632\n",
            "Validation set: Average loss: 0.0006, Accuracy: 90.52%\n",
            "\n",
            "Epoch 21:\n",
            "98/98 [========] - 24s 247ms/step - loss: 0.1123 - accuracy: 84.5866\n",
            "Validation set: Average loss: 0.0006, Accuracy: 90.87%\n",
            "\n",
            "Epoch 22:\n",
            "98/98 [========] - 24s 247ms/step - loss: 0.0940 - accuracy: 85.1871\n",
            "Validation set: Average loss: 0.0005, Accuracy: 91.97%\n",
            "\n",
            "Epoch 23:\n",
            "98/98 [========] - 24s 247ms/step - loss: 0.0878 - accuracy: 85.7490\n",
            "Validation set: Average loss: 0.0005, Accuracy: 92.26%\n",
            "\n",
            "Epoch 24:\n",
            "98/98 [========] - 24s 246ms/step - loss: 0.0799 - accuracy: 86.2732\n",
            "Validation set: Average loss: 0.0005, Accuracy: 90.90%\n",
            "\n"
          ],
          "name": "stdout"
        }
      ]
    },
    {
      "cell_type": "markdown",
      "metadata": {
        "id": "cV5et8bm91J5",
        "colab_type": "text"
      },
      "source": [
        "# Cyclic LR Triangular Schedule"
      ]
    },
    {
      "cell_type": "code",
      "metadata": {
        "id": "4hNpEDD_92Mr",
        "colab_type": "code",
        "colab": {
          "base_uri": "https://localhost:8080/",
          "height": 224
        },
        "outputId": "31052f22-900c-4e5b-bd29-52d42be9321c"
      },
      "source": [
        "triangular_lr = CyclicLR(initial_lr, initial_lr / 10, len(train_loader), len(train_loader) * 10)\n",
        "triangular_lr.cyclic_lr(plot=True)"
      ],
      "execution_count": 13,
      "outputs": [
        {
          "output_type": "display_data",
          "data": {
            "image/png": "[encoded data removed]",
            "text/plain": [
              "<Figure size 720x216 with 1 Axes>"
            ]
          },
          "metadata": {
            "tags": [],
            "needs_background": "light"
          }
        }
      ]
    },
    {
      "cell_type": "markdown",
      "metadata": {
        "id": "2o99Jq1XTdo-",
        "colab_type": "text"
      },
      "source": [
        "## Plotting Accuracy"
      ]
    },
    {
      "cell_type": "code",
      "metadata": {
        "id": "xMFYHCFVA7Z-",
        "colab_type": "code",
        "outputId": "9a5f8d9a-abfb-486f-fdac-53d20343f608",
        "colab": {
          "base_uri": "https://localhost:8080/",
          "height": 350
        }
      },
      "source": [
        "plot_metric({\n",
        "    'Training': model.learner.train_accuracies,\n",
        "    'Validation': model.learner.val_accuracies\n",
        "}, 'Accuracy')"
      ],
      "execution_count": 14,
      "outputs": [
        {
          "output_type": "display_data",
          "data": {
            "image/png": "[encoded data removed]",
            "text/plain": [
              "<Figure size 504x360 with 1 Axes>"
            ]
          },
          "metadata": {
            "tags": [],
            "needs_background": "light"
          }
        }
      ]
    },
    {
      "cell_type": "code",
      "metadata": {
        "id": "lBXFeKGvXJba",
        "colab_type": "code",
        "colab": {}
      },
      "source": [
        ""
      ],
      "execution_count": 0,
      "outputs": []
    }
  ]
}